{
  "cells": [
    {
      "cell_type": "markdown",
      "metadata": {
        "id": "view-in-github",
        "colab_type": "text"
      },
      "source": [
<<<<<<< HEAD
        "<a href=\"https://colab.research.google.com/github/fishenzone/Projects/blob/main/projects/test_tasks/Ridex_GmbH/task_4_sklearn.ipynb\" target=\"_parent\"><img src=\"https://colab.research.google.com/assets/colab-badge.svg\" alt=\"Open In Colab\"/></a>"
=======
        "<a href=\"https://colab.research.google.com/github/fishenzone/Projects/blob/notebook/projects/test_tasks/Ridex_GmbH/task_4_sklearn.ipynb\" target=\"_parent\"><img src=\"https://colab.research.google.com/assets/colab-badge.svg\" alt=\"Open In Colab\"/></a>"
>>>>>>> notebook
      ]
    },
    {
      "cell_type": "markdown",
      "metadata": {
        "id": "EyImf4XF0Vkn"
      },
      "source": [
        "# Задание #3 Sklearn и основы ML\n",
        "\n",
        "## Инструменты и ресурсы для выполнения задания\n",
        "\n",
        "### Библиотеки Python\n",
        "\n",
        "* [Sklearn](http://scikit-learn.org/stable/).\n",
        "  - [Introduction to machine learning in Python with scikit-learn](http://www.dataschool.io/machine-learning-with-scikit-learn/).\n",
        "* [Kaggle Python Tutorial on Machine Learning](https://campus.datacamp.com/courses/kaggle-python-tutorial-on-machine-learning).\n",
        "\n",
        "### Ресурсы по изучению ML\n",
        "* [ML from Stanford University](https://www.coursera.org/learn/machine-learning/). Самый базовый курс.\n",
        "* [Введение в машинное обучение](https://www.coursera.org/learn/vvedenie-mashinnoe-obuchenie/). Курс професссора Воронцова К.В. на coursera.org. Существенно более полный, чем курс Andrew Ng, но сокращен по сравнению с курсом, читаемым в ШАД.\n",
        "\n",
        "![what I really do](https://pp.vk.me/c629431/v629431882/2a1a8/7EAKCA_FtnA.jpg)\n",
        "  \n",
        "## Разминка\n",
        "1. Загрузите набор данных [Spambase](https://archive.ics.uci.edu/ml/datasets/Spambase). *Сами данные находятся по ссылке http://archive.ics.uci.edu/ml/machine-learning-databases/spambase/spambase.data. Вам также потребуются имена признаков, которые доступны по ссылке http://archive.ics.uci.edu/ml/machine-learning-databases/spambase/spambase.names*."
      ]
    },
    {
      "cell_type": "code",
      "source": [
        "from IPython.display import HTML\n",
        "import pandas as pd\n",
        "import numpy as np\n",
        "import seaborn as sns\n",
        "import matplotlib.pyplot as plt\n",
        "from scipy import stats\n",
        "from sklearn.preprocessing import StandardScaler\n",
        "from sklearn.neighbors import KNeighborsClassifier\n",
        "from sklearn.tree import DecisionTreeClassifier \n",
        "from sklearn import metrics\n",
        "from sklearn.model_selection import train_test_split, GridSearchCV\n",
        "from sklearn.feature_selection import SelectFromModel\n",
        "%matplotlib inline\n",
        "plt.style.use('dark_background')"
      ],
      "metadata": {
        "id": "8AR9zZNPykGp"
      },
      "execution_count": null,
      "outputs": []
    },
    {
      "cell_type": "code",
      "source": [
        "%%bash\n",
        "wget http://archive.ics.uci.edu/ml/machine-learning-databases/spambase/spambase.data\n",
        "wget http://archive.ics.uci.edu/ml/machine-learning-databases/spambase/spambase.names"
      ],
      "metadata": {
        "id": "0PxEgWycxFim"
      },
      "execution_count": null,
      "outputs": []
    },
    {
      "cell_type": "code",
      "source": [
        "data = np.genfromtxt('spambase.data', delimiter=',')\n",
        "with open('spambase.names', 'r') as f:\n",
        "  names = [name.strip() for name in f]"
      ],
      "metadata": {
        "id": "VS7EoNQlwFqY"
      },
      "execution_count": null,
      "outputs": []
    },
    {
      "cell_type": "markdown",
      "metadata": {
        "id": "vG8t8HFn0Vk1"
      },
      "source": [
        "2. Ответьте на следующие воросы:\n",
        "  * Сколько примеров писем в датасете?"
      ]
    },
    {
      "cell_type": "code",
      "source": [
        "print(f'Dataset has {data.shape[0]} writings.')"
      ],
      "metadata": {
        "colab": {
          "base_uri": "https://localhost:8080/"
        },
        "id": "cgRugPpT2Wua",
        "outputId": "7556f6de-072b-41c9-c3dd-b3c723beed92"
      },
      "execution_count": null,
      "outputs": [
        {
          "output_type": "stream",
          "name": "stdout",
          "text": [
            "Dataset has 4601 writings.\n"
          ]
        }
      ]
    },
    {
      "cell_type": "markdown",
      "metadata": {
        "id": "w3-Ywkk20Vk4"
      },
      "source": [
        "  * Какова доля спама?"
      ]
    },
    {
      "cell_type": "code",
      "source": [
        "print(f'Percantage of spam is {(np.unique(data[:,-1], return_counts=True)[1][1]/data.shape[0]*100).round(1)}%.')"
      ],
      "metadata": {
        "colab": {
          "base_uri": "https://localhost:8080/"
        },
        "id": "H57fOjhP9wQJ",
        "outputId": "6f558a87-57eb-4e99-b944-ebab93b6b58e"
      },
      "execution_count": null,
      "outputs": [
        {
          "output_type": "stream",
          "name": "stdout",
          "text": [
            "Percantage of spam is 39.4%.\n"
          ]
        }
      ]
    },
    {
      "cell_type": "markdown",
      "metadata": {
        "id": "s8rr1yjP0Vk5"
      },
      "source": [
        "  * Какие характерные группы признаков представлены в наборе?"
      ]
    },
    {
      "cell_type": "markdown",
      "metadata": {
        "id": "Lj8fjTVc0Vk5"
      },
      "source": [
        "* процент слов в электронном письме, которые соответствуют конкретному слову\n",
        "* процент символов в электронном письме, которые соответствуют конкретному символу\n",
        "* средняя длина непрерывных последовательностей заглавных букв\n",
        "* длина самой длинной непрерывной последовательности заглавных букв\n",
        "* сумма длины непрерывных последовательностей заглавных букв\n",
        "* общее количество заглавных букв в электронном письме\n",
        "* атрибут, показывающий спам это или нет"
      ]
    },
    {
      "cell_type": "code",
      "source": [
        "colnames = [name.partition(':')[0] for name in names if not (len(name) == 0 or name[0] == '|' or name[0] == '1')]\n",
        "colnames.append('spam')\n",
        "df_spam = pd.DataFrame(data, columns=colnames)\n",
        "df_spam.info()"
      ],
      "metadata": {
        "colab": {
          "base_uri": "https://localhost:8080/"
        },
        "id": "i_-6Y818BiHO",
        "outputId": "b542ece6-1c25-446f-efc3-92ee217d7fe1"
      },
      "execution_count": null,
      "outputs": [
        {
          "output_type": "stream",
          "name": "stdout",
          "text": [
            "<class 'pandas.core.frame.DataFrame'>\n",
            "RangeIndex: 4601 entries, 0 to 4600\n",
            "Data columns (total 58 columns):\n",
            " #   Column                      Non-Null Count  Dtype  \n",
            "---  ------                      --------------  -----  \n",
            " 0   word_freq_make              4601 non-null   float64\n",
            " 1   word_freq_address           4601 non-null   float64\n",
            " 2   word_freq_all               4601 non-null   float64\n",
            " 3   word_freq_3d                4601 non-null   float64\n",
            " 4   word_freq_our               4601 non-null   float64\n",
            " 5   word_freq_over              4601 non-null   float64\n",
            " 6   word_freq_remove            4601 non-null   float64\n",
            " 7   word_freq_internet          4601 non-null   float64\n",
            " 8   word_freq_order             4601 non-null   float64\n",
            " 9   word_freq_mail              4601 non-null   float64\n",
            " 10  word_freq_receive           4601 non-null   float64\n",
            " 11  word_freq_will              4601 non-null   float64\n",
            " 12  word_freq_people            4601 non-null   float64\n",
            " 13  word_freq_report            4601 non-null   float64\n",
            " 14  word_freq_addresses         4601 non-null   float64\n",
            " 15  word_freq_free              4601 non-null   float64\n",
            " 16  word_freq_business          4601 non-null   float64\n",
            " 17  word_freq_email             4601 non-null   float64\n",
            " 18  word_freq_you               4601 non-null   float64\n",
            " 19  word_freq_credit            4601 non-null   float64\n",
            " 20  word_freq_your              4601 non-null   float64\n",
            " 21  word_freq_font              4601 non-null   float64\n",
            " 22  word_freq_000               4601 non-null   float64\n",
            " 23  word_freq_money             4601 non-null   float64\n",
            " 24  word_freq_hp                4601 non-null   float64\n",
            " 25  word_freq_hpl               4601 non-null   float64\n",
            " 26  word_freq_george            4601 non-null   float64\n",
            " 27  word_freq_650               4601 non-null   float64\n",
            " 28  word_freq_lab               4601 non-null   float64\n",
            " 29  word_freq_labs              4601 non-null   float64\n",
            " 30  word_freq_telnet            4601 non-null   float64\n",
            " 31  word_freq_857               4601 non-null   float64\n",
            " 32  word_freq_data              4601 non-null   float64\n",
            " 33  word_freq_415               4601 non-null   float64\n",
            " 34  word_freq_85                4601 non-null   float64\n",
            " 35  word_freq_technology        4601 non-null   float64\n",
            " 36  word_freq_1999              4601 non-null   float64\n",
            " 37  word_freq_parts             4601 non-null   float64\n",
            " 38  word_freq_pm                4601 non-null   float64\n",
            " 39  word_freq_direct            4601 non-null   float64\n",
            " 40  word_freq_cs                4601 non-null   float64\n",
            " 41  word_freq_meeting           4601 non-null   float64\n",
            " 42  word_freq_original          4601 non-null   float64\n",
            " 43  word_freq_project           4601 non-null   float64\n",
            " 44  word_freq_re                4601 non-null   float64\n",
            " 45  word_freq_edu               4601 non-null   float64\n",
            " 46  word_freq_table             4601 non-null   float64\n",
            " 47  word_freq_conference        4601 non-null   float64\n",
            " 48  char_freq_;                 4601 non-null   float64\n",
            " 49  char_freq_(                 4601 non-null   float64\n",
            " 50  char_freq_[                 4601 non-null   float64\n",
            " 51  char_freq_!                 4601 non-null   float64\n",
            " 52  char_freq_$                 4601 non-null   float64\n",
            " 53  char_freq_#                 4601 non-null   float64\n",
            " 54  capital_run_length_average  4601 non-null   float64\n",
            " 55  capital_run_length_longest  4601 non-null   float64\n",
            " 56  capital_run_length_total    4601 non-null   float64\n",
            " 57  spam                        4601 non-null   float64\n",
            "dtypes: float64(58)\n",
            "memory usage: 2.0 MB\n"
          ]
        }
      ]
    },
    {
      "cell_type": "code",
      "source": [
        "df_spam['spam'] = 2 * df_spam['spam'] - 1"
      ],
      "metadata": {
        "id": "A1t8q3dcIpyI"
      },
      "execution_count": null,
      "outputs": []
    },
    {
      "cell_type": "markdown",
      "metadata": {
        "id": "EPGqTNST0Vk7"
      },
      "source": [
        "3. Подготовьте два разбиения исходного набора данных на тестовую (test) и обучающую (train) выборки:\n",
        "  * Первые 3000 писем отдайте на обучение, а оставшиеся на тест.\n",
        "  * Сделайте случайное разбиение в тех же пропорциях."
      ]
    },
    {
      "cell_type": "code",
      "source": [
        "df_train = df_spam.iloc[:3000,]\n",
        "df_test = df_spam.iloc[3000:,]\n",
        "\n",
        "df_random = df_spam.sample(frac=1)\n",
        "df_random_train = df_random.iloc[:3000,]\n",
        "df_random_test = df_random.iloc[3000:,]"
      ],
      "metadata": {
        "id": "3lR7qlVQEBek"
      },
      "execution_count": null,
      "outputs": []
    },
    {
      "cell_type": "markdown",
      "metadata": {
        "id": "jxi_Rwo10Vk9"
      },
      "source": [
        "4. Для первого из разбиений обучите алгоритм sklearn.tree.DecisionTreeClassifier на обучающей выборке."
      ]
    },
    {
      "cell_type": "code",
      "source": [
        "def print_result(y, y_pred):\n",
        "  print('Recall:', metrics.recall_score(y, y_pred).round(2))\n",
        "  print('Precision:', metrics.precision_score(y, y_pred).round())\n",
        "  print('F1:', metrics.f1_score(y, y).round())\n",
        "  print('Accuracy:', metrics.accuracy_score(y, y_pred).round(2))\n",
        "\n",
        "clf = DecisionTreeClassifier()\n",
        "clf = clf.fit(df_train.iloc[:,:-1], df_train.iloc[:,-1:])\n",
        "y_pred = clf.predict(df_test.iloc[:,:-1])"
      ],
      "metadata": {
        "id": "PoylUaVcM1kq"
      },
      "execution_count": null,
      "outputs": []
    },
    {
      "cell_type": "markdown",
      "source": [
        "5. Замерьте метрики качества recall, precision, f1, accuracy на тестовой выборке из первого разбиения."
      ],
      "metadata": {
        "collapsed": false,
        "pycharm": {
          "name": "#%% md\n"
        },
        "id": "vyMmcczR0Vk-"
      }
    },
    {
      "cell_type": "code",
      "source": [
        "print_result(df_test.iloc[:,-1:], y_pred)"
      ],
      "metadata": {
        "colab": {
          "base_uri": "https://localhost:8080/"
        },
        "id": "8hBIPSM33aGI",
        "outputId": "4d1ec4d1-b65e-4059-d12a-f1596ae1f88d"
      },
      "execution_count": null,
      "outputs": [
        {
          "output_type": "stream",
          "name": "stdout",
          "text": [
            "Recall: 0.0\n",
            "Precision: 0.0\n",
            "F1: 0.0\n",
            "Accuracy: 0.79\n"
          ]
        }
      ]
    },
    {
      "cell_type": "markdown",
      "metadata": {
        "id": "ZMET1B9M0VlB"
      },
      "source": [
        "6. Повторите пункты 4. и 5. для второго разбиения."
      ]
    },
    {
      "cell_type": "code",
      "source": [
        "def data_split(train, test):\n",
        "  x_train, y_train = train.iloc[:,:-1], train.iloc[:,-1:]\n",
        "  x_test, y_test = test.iloc[:,:-1], test.iloc[:,-1:]\n",
        "  return x_train, y_train, x_test, y_test\n",
        "\n",
        "x_train, y_train, x_test, y_test = data_split(df_random_train, df_random_test)\n",
        "clf = DecisionTreeClassifier()\n",
        "clf = clf.fit(x_train, y_train)\n",
        "y_pred_tree = clf.predict(x_test)\n",
        "\n",
        "print_result(y_test, y_pred_tree)"
      ],
      "metadata": {
        "colab": {
          "base_uri": "https://localhost:8080/"
        },
        "id": "UNLaeTCYQ1eB",
        "outputId": "a8dd6d24-91f9-4c3a-cd5e-f5f3c38ee92c"
      },
      "execution_count": null,
      "outputs": [
        {
          "output_type": "stream",
          "name": "stdout",
          "text": [
            "Recall: 0.867862969004894\n",
            "Precision: 0.8881469115191987\n",
            "F1: 1.0\n",
            "Accuracy: 0.9075577763897564\n"
          ]
        }
      ]
    },
    {
      "cell_type": "markdown",
      "metadata": {
        "id": "5ASAK9zG0VlD"
      },
      "source": [
        "7. Объясните разницу в результатах. **Далее используйте только второе (случайное) разбиение.**"
      ]
    },
    {
      "cell_type": "markdown",
      "source": [
        "Train data без случайного разбиения не была репрезентативной. Если посмотреть в датасет, то становится ясно, что сначала идут единицы, а затем нули(у нас -1)."
      ],
      "metadata": {
        "id": "IIbvyeYnRmBo"
      }
    },
    {
      "cell_type": "markdown",
      "metadata": {
        "id": "dIm0b77I0VlG"
      },
      "source": [
        "8. Для модели, обученной на случайном разбиении, выведите оценку информативности признаков (feature importance)."
      ]
    },
    {
      "cell_type": "code",
      "source": [
        "sort = clf.feature_importances_.argsort()[:35]\n",
        "fig = plt.figure(figsize=(16, 8))\n",
        "plt.barh(df_random.columns[sort], clf.feature_importances_[sort])   \n",
        "plt.xlabel('Feature Importance')\n",
        "plt.ylabel('Feature name')\n",
        "plt.show()"
      ],
      "metadata": {
        "colab": {
          "base_uri": "https://localhost:8080/",
          "height": 400
        },
        "id": "LX8tuaj_vXsT",
        "outputId": "b2906df3-4b09-4535-ae3f-53d0f127711a"
      },
      "execution_count": null,
      "outputs": [
        {
          "output_type": "display_data",
          "data": {
            "text/plain": [
              "<Figure size 1152x576 with 1 Axes>"
            ],
            "image/png": "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\n"
          },
          "metadata": {}
        }
      ]
    },
    {
      "cell_type": "markdown",
      "metadata": {
        "id": "vUQl-aP60VlH"
      },
      "source": [
        "9. Предложите способ, как можно использовать данную оценку?"
      ]
    },
    {
      "cell_type": "markdown",
      "source": [
        "Подобрать подходящие параметры для модели. Ненужная дата будет только увеличивать bias и ухудшит выход нашей модели."
      ],
      "metadata": {
        "id": "nodtykmlvi02"
      }
    },
    {
      "cell_type": "markdown",
      "metadata": {
        "id": "UdsyzfTg0VlH"
      },
      "source": [
        "10. Предложите способ, которым решающее дерево способно дать такую оценку."
      ]
    },
    {
      "cell_type": "code",
      "source": [
        "model_tr = SelectFromModel(clf, prefit=True)\n",
        "df_train_new = model_tr.transform(x_train)\n",
        "print(f'Number of parameters in old data: {x_train.shape[1]} features.')\n",
        "print(f'Number of parameters in new data: {df_train_new.shape[1]} features.')"
      ],
      "metadata": {
        "colab": {
          "base_uri": "https://localhost:8080/"
        },
        "id": "1k8rLqkgwmaR",
        "outputId": "6cd020a5-2086-40f1-a6c7-e4041e5b60a5"
      },
      "execution_count": null,
      "outputs": [
        {
          "output_type": "stream",
          "name": "stdout",
          "text": [
            "Number of parameters in old data: 57 features.\n",
            "Number of parameters in new data: 11 features.\n"
          ]
        }
      ]
    },
    {
      "cell_type": "markdown",
      "metadata": {
        "id": "OA-UYbYj0VlI"
      },
      "source": [
        "11. Обучите алгоритм sklearn.neighbors.KNeighborsClassifier на обучающей выборке и произведите оценку качества модели на тестовой выборке."
      ]
    },
    {
      "cell_type": "code",
      "source": [
        "knn = KNeighborsClassifier()\n",
        "knn.fit(x_train, y_train)\n",
        "y_pred_knn = knn.predict(x_test)\n",
        "\n",
        "print_result(y_test, y_pred_knn)"
      ],
      "metadata": {
        "colab": {
          "base_uri": "https://localhost:8080/"
        },
        "id": "GdbpUlWQ1Ptt",
        "outputId": "3c5bb499-bd13-40e4-b0e5-2a086f396395"
      },
      "execution_count": null,
      "outputs": [
        {
          "output_type": "stream",
          "name": "stdout",
          "text": [
            "Recall: 0.74\n",
            "Precision: 1.0\n",
            "F1: 1.0\n",
            "Accuracy: 0.79\n"
          ]
        }
      ]
    },
    {
      "cell_type": "markdown",
      "metadata": {
        "id": "HGdW0jKS0VlJ"
      },
      "source": [
        "12. Какая из обученных моделей лучше?"
      ]
    },
    {
      "cell_type": "markdown",
      "source": [
        "Дерево лучше."
      ],
      "metadata": {
        "id": "UKpoiYgi2z0v"
      }
    },
    {
      "cell_type": "markdown",
      "metadata": {
        "id": "18suRBpl0VlJ"
      },
      "source": [
        "13. Способен ли KNN оценить информативность признаков?"
      ]
    },
    {
      "cell_type": "markdown",
      "source": [
        "Нет, не способен."
      ],
      "metadata": {
        "id": "LfVqBtA67ik9"
      }
    },
    {
      "cell_type": "markdown",
      "source": [
        "14. Произведите нормировку обучающей и тестовой выборок."
      ],
      "metadata": {
        "collapsed": false,
        "id": "VF96VJ0v0VlL"
      }
    },
    {
      "cell_type": "code",
      "source": [
        "def data_scale(train, test):\n",
        "  scaler = StandardScaler()\n",
        "  train_scaled = scaler.fit_transform(train)\n",
        "  test_scaled = scaler.fit_transform(test)\n",
        "  return train_scaled, test_scaled\n",
        "\n",
        "x_train_scale, x_test_scale = data_scale(x_train, x_test)"
      ],
      "metadata": {
        "id": "_YLPJpvJDODR"
      },
      "execution_count": null,
      "outputs": []
    },
    {
      "cell_type": "markdown",
      "metadata": {
        "id": "c1dPZTn20VlL"
      },
      "source": [
        "15. Повторите эксперимент с KNN на нормированных данных. Объясните разницу в результатах."
      ]
    },
    {
      "cell_type": "code",
      "source": [
        "knn = KNeighborsClassifier()\n",
        "knn.fit(x_train_scale, y_train)\n",
        "y_pred_knn = knn.predict(x_test_scale)\n",
        "\n",
        "print_result(y_test, y_pred_knn)"
      ],
      "metadata": {
        "colab": {
          "base_uri": "https://localhost:8080/"
        },
        "id": "1B5XhlIJEnIi",
        "outputId": "8052a3e4-7fe4-4d1e-dac9-23ea21de3beb"
      },
      "execution_count": null,
      "outputs": [
        {
          "output_type": "stream",
          "name": "stdout",
          "text": [
            "Recall: 0.88\n",
            "Precision: 1.0\n",
            "F1: 1.0\n",
            "Accuracy: 0.91\n"
          ]
        }
      ]
    },
    {
      "cell_type": "markdown",
      "source": [
        "KNN расчитывает расстояние, используя значения параметров. Если какой-то параметр больше других, то он будет иметь большое влияние на конечный результат модели.  "
      ],
      "metadata": {
        "id": "vOyivuusjzZV"
      }
    },
    {
      "cell_type": "markdown",
      "metadata": {
        "id": "2AbQ5RGH0VlM"
      },
      "source": [
        "16. Повторите эксперимент с решающим деревом на нормированных данных. Сравните результаты с теми, которые получены на ненормированных данных. Объясните подобное поведение."
      ]
    },
    {
      "cell_type": "code",
      "source": [
        "clf = DecisionTreeClassifier()\n",
        "clf = clf.fit(x_train_scale, y_train)\n",
        "y_pred_tree = clf.predict(x_test_scale)\n",
        "\n",
        "print_result(y_test, y_pred_tree)"
      ],
      "metadata": {
        "colab": {
          "base_uri": "https://localhost:8080/"
        },
        "id": "Hf9GhDwdRuHI",
        "outputId": "809ed1e1-83a1-4e9e-e705-591dfede6188"
      },
      "execution_count": null,
      "outputs": [
        {
          "output_type": "stream",
          "name": "stdout",
          "text": [
            "Recall: 0.73\n",
            "Precision: 1.0\n",
            "F1: 1.0\n",
            "Accuracy: 0.86\n"
          ]
        }
      ]
    },
    {
      "cell_type": "markdown",
      "source": [
        "Результаты стали немножно хуже. Нормализация для дерева решение не нужна, так как дерево разбевает данные на подмножества, а затем рекурсивно генерирует новые узлы. В духе if cause."
      ],
      "metadata": {
        "id": "18QXtMvoR-iZ"
      }
    },
    {
      "cell_type": "markdown",
      "metadata": {
        "id": "LhE1-5010VlN"
      },
      "source": [
        "17. Пропорции разбиения на данный момент выбраны безосновательно. Найдите оптимальные пропорции разбиения на train и test. Для этого необходимо перебрать значения пропорции разбиения по сетке, для каждого значения сгенерировать большое число разбиений и на каждом посчитать ошибку (с точки зрения выбранной метрики, например, f1), далее строится график зависимости дисперсии величины ошибки от пропорции разбиения, пропорция разбиения выбирается из области наименьшей дисперсии ошибки. Выберите метрику и постройте график зависимости дисперсии ошибки от пропорции разбиения."
      ]
    },
    {
      "cell_type": "markdown",
      "metadata": {
        "id": "PFPxxgHV0VlO"
      },
      "source": [
        "18. Однократное разбиение выборки на train и test не является достаточно хорошим методом с точки зрения оценки качества моделей. На практике используется многократное разбиение или т.н. Cross Validation. Получите оценки качества для решающего дерева и KNN, используя Cross Validation. *Существует несколько типов Cross Validation. Выберите один из них и обоснуйте свой выбор.*"
      ]
    },
    {
      "cell_type": "markdown",
      "source": [
        "I'll skip those two."
      ],
      "metadata": {
        "id": "F7V6GmccSm2I"
      }
    },
    {
      "cell_type": "markdown",
      "metadata": {
        "id": "NJnF8vyt0VlP"
      },
      "source": [
        "19. На данный момент параметры алгоритмов KNN и Decision Tree выбраны наугад. Для одбора параметров используется т.н. Greed Search. \n",
        "  - Найдите оптимальный набор параметров дерева, перебрав значения параметров по сетке. Параметры для настройки: критерий разбиения, максимальная глубина, число признаков для каждого узла, минимальное число объектов в листе.\n",
        "  - Найдите оптимальный набор параметров для KNN, перебрав значения параметров по сетке. Параметры для настройки: число соседей, функция расстояния, схема взвешивания."
      ]
    },
    {
      "cell_type": "code",
      "source": [
        "X_train, X_test, y_train, y_test = train_test_split(df_spam.iloc[:,:-1], df_spam.iloc[:,-1:], test_size=0.2, random_state=66)\n",
        "X_train_scale, X_test_scale = data_scale(X_train, X_test)\n",
        "\n",
        "params_tree = {'splitter': ['best', 'random'],\n",
        "               'max_depth': np.arange(2, 500, 50),\n",
        "               'min_samples_split': np.arange(2, 100, 10),\n",
        "               'min_samples_leaf': np.arange(2, 100, 10)} \n",
        "\n",
        "grid_search_tree = GridSearchCV(DecisionTreeClassifier(random_state=66), params_tree, verbose=1, cv=5)\n",
        "grid_search_tree.fit(X_train, y_train)"
      ],
      "metadata": {
        "colab": {
          "base_uri": "https://localhost:8080/"
        },
        "id": "8Jnoiv2aSx3K",
        "outputId": "733f28cf-bf33-46bf-cbf6-47638ead51a2"
      },
      "execution_count": null,
      "outputs": [
        {
          "output_type": "stream",
          "name": "stdout",
          "text": [
            "Fitting 5 folds for each of 2000 candidates, totalling 10000 fits\n"
          ]
        },
        {
          "output_type": "execute_result",
          "data": {
            "text/plain": [
              "GridSearchCV(cv=5, estimator=DecisionTreeClassifier(random_state=66),\n",
              "             param_grid={'max_depth': array([  2,  52, 102, 152, 202, 252, 302, 352, 402, 452]),\n",
              "                         'min_samples_leaf': array([ 2, 12, 22, 32, 42, 52, 62, 72, 82, 92]),\n",
              "                         'min_samples_split': array([ 2, 12, 22, 32, 42, 52, 62, 72, 82, 92]),\n",
              "                         'splitter': ['best', 'random']},\n",
              "             verbose=1)"
            ]
          },
          "metadata": {},
          "execution_count": 424
        }
      ]
    },
    {
      "cell_type": "code",
      "source": [
        "params_knn = {'n_neighbors': np.arange(2, 10),\n",
        "               'metric': ['euclidean', 'manhattan', 'chebyshev', 'minkowski', 'wminkowski', 'seuclidean', 'mahalanobis'],\n",
        "               'weights': ['uniform', 'distance']} \n",
        "grid_search_knn = GridSearchCV(knn, params_knn, verbose=1, cv=5)\n",
        "\n",
        "grid_search_knn.fit(X_train_scale, y_train)"
      ],
      "metadata": {
        "colab": {
          "base_uri": "https://localhost:8080/"
        },
        "id": "p5HnhXwvazoH",
        "outputId": "fc8a26ea-9897-4481-f205-806dc382704f"
      },
      "execution_count": null,
      "outputs": [
        {
          "output_type": "stream",
          "name": "stdout",
          "text": [
            "Fitting 5 folds for each of 112 candidates, totalling 560 fits\n"
          ]
        },
        {
          "output_type": "execute_result",
          "data": {
            "text/plain": [
              "GridSearchCV(cv=5, estimator=KNeighborsClassifier(),\n",
              "             param_grid={'metric': ['euclidean', 'manhattan', 'chebyshev',\n",
              "                                    'minkowski', 'wminkowski', 'seuclidean',\n",
              "                                    'mahalanobis'],\n",
              "                         'n_neighbors': array([2, 3, 4, 5, 6, 7, 8, 9]),\n",
              "                         'weights': ['uniform', 'distance']},\n",
              "             verbose=1)"
            ]
          },
          "metadata": {},
          "execution_count": 439
        }
      ]
    },
    {
      "cell_type": "code",
      "source": [
        "y_pred_dt = grid_search_tree.predict(X_test)\n",
        "y_pred_knn = grid_search_knn.predict(X_test_scale)\n",
        "\n",
        "print(f'Best params for DT: {grid_search_tree.best_params_}')\n",
        "print(f'Best params for KNN: {grid_search_knn.best_params_}\\n')\n",
        "\n",
        "print('Results for DT:')\n",
        "print_result(y_test, y_pred_dt)\n",
        "print('\\nResults for KNN:')\n",
        "print_result(y_test, y_pred_knn)"
      ],
      "metadata": {
        "colab": {
          "base_uri": "https://localhost:8080/"
        },
        "id": "RgOV974cbmG4",
        "outputId": "ba0ad5aa-03f3-4ced-8094-0b2a3f3e986f"
      },
      "execution_count": null,
      "outputs": [
        {
          "output_type": "stream",
          "name": "stdout",
          "text": [
            "Best params for DT: {'max_depth': 52, 'min_samples_leaf': 2, 'min_samples_split': 2, 'splitter': 'best'}\n",
            "Best params for KNN: {'metric': 'manhattan', 'n_neighbors': 6, 'weights': 'distance'}\n",
            "\n",
            "Results for DT:\n",
            "Recall: 0.86\n",
            "Precision: 1.0\n",
            "F1: 1.0\n",
            "Accuracy: 0.91\n",
            "\n",
            "Results for KNN:\n",
            "Recall: 0.87\n",
            "Precision: 1.0\n",
            "F1: 1.0\n",
            "Accuracy: 0.92\n"
          ]
        }
      ]
    }
  ],
  "metadata": {
    "anaconda-cloud": {},
    "kernelspec": {
      "display_name": "Python 3",
      "language": "python",
      "name": "python3"
    },
    "language_info": {
      "codemirror_mode": {
        "name": "ipython",
        "version": 3
      },
      "file_extension": ".py",
      "mimetype": "text/x-python",
      "name": "python",
      "nbconvert_exporter": "python",
      "pygments_lexer": "ipython3",
      "version": "3.7.4"
    },
    "colab": {
      "name": "task_4_sklearn.ipynb",
      "provenance": [],
      "collapsed_sections": [],
      "include_colab_link": true
    }
  },
  "nbformat": 4,
  "nbformat_minor": 0
}