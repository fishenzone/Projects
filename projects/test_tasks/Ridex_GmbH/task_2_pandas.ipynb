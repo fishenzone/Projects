{
  "cells": [
    {
      "cell_type": "code",
      "source": [
        "import matplotlib.pyplot as plt\n",
        "import seaborn as sns\n",
        "import numpy as np\n",
        "import pandas as pd\n",
        "from scipy import stats\n",
        "import warnings\n",
        "warnings.filterwarnings('ignore')\n",
        "%matplotlib inline\n",
        "plt.style.use('dark_background')"
      ],
      "metadata": {
        "id": "ogpyX1_lrez3"
      },
      "execution_count": null,
      "outputs": []
    },
    {
      "cell_type": "markdown",
      "metadata": {
        "id": "IC4SkeMptPs8"
      },
      "source": [
        "# Задание #2 Pandas\n",
        "\n",
        "## Инструменты и ресурсы для выполнения задания\n",
        "\n",
        "### Библиотеки Python\n",
        "\n",
        "  * [Pandas](http://pandas.pydata.org/)\n",
        "    - [Tutorials](http://pandas.pydata.org/pandas-docs/stable/tutorials.html)\n",
        "    - [Easier data analysis in Python with pandas](http://www.dataschool.io/easier-data-analysis-with-pandas/)\n",
        "\n",
        "### Ресурсы по Titanic dataset\n",
        "  * [Сам конкурс](https://www.kaggle.com/c/titanic)\n",
        "  * [Пример решения конкурса](http://nbviewer.jupyter.org/github/agconti/kaggle-titanic/blob/master/Titanic.ipynb)\n",
        "  * [Еще пример](https://habrahabr.ru/company/mlclass/blog/270973/)\n",
        "  \n",
        "## Разминка\n",
        "**Как и в предыдущем задании здесь запрещено использовать циклы, если это специально не оговорено.**\n",
        "1. Скачайте Titanic dataset и загрузите его в pandas.DataFrame; выведите первые 5 записей в ноутбук. Как можно интерпретировать данную таблицу?"
      ]
    },
    {
      "cell_type": "code",
      "source": [
        "%%bash\n",
        "kaggle competitions download -c titanic\n",
        "unzip -q './titanic.zip' -d './data'"
      ],
      "metadata": {
        "id": "vny1XgGwrdel"
      },
      "execution_count": null,
      "outputs": []
    },
    {
      "cell_type": "code",
      "source": [
        "df = pd.read_csv('data/train.csv')\n",
        "df.head() "
      ],
      "metadata": {
        "colab": {
          "base_uri": "https://localhost:8080/",
          "height": 372
        },
        "id": "pt_P7R1Orz3g",
        "outputId": "850c3bae-6cdb-4e6c-a558-281595cc0d34"
      },
      "execution_count": null,
      "outputs": [
        {
          "output_type": "execute_result",
          "data": {
            "text/plain": [
              "   PassengerId  Survived  Pclass                        Name                          Sex    Age  SibSp  Parch       Ticket       Fare Cabin Embarked\n",
              "0       1           0        3                              Braund, Mr. Owen Harris    male  22     1      0           A/5 21171    7    NaN     S   \n",
              "1       2           1        1    Cumings, Mrs. John Bradley (Florence Briggs Th...  female  38     1      0            PC 17599   71    C85     C   \n",
              "2       3           1        3                               Heikkinen, Miss. Laina  female  26     0      0    STON/O2. 3101282    8    NaN     S   \n",
              "3       4           1        1         Futrelle, Mrs. Jacques Heath (Lily May Peel)  female  35     1      0              113803   53   C123     S   \n",
              "4       5           0        3                             Allen, Mr. William Henry    male  35     0      0              373450    8    NaN     S   "
            ],
            "text/html": [
              "\n",
              "  <div id=\"df-e7a61e89-a3da-4e80-8d7c-38796cb9b8a3\">\n",
              "    <div class=\"colab-df-container\">\n",
              "      <div>\n",
              "<style scoped>\n",
              "    .dataframe tbody tr th:only-of-type {\n",
              "        vertical-align: middle;\n",
              "    }\n",
              "\n",
              "    .dataframe tbody tr th {\n",
              "        vertical-align: top;\n",
              "    }\n",
              "\n",
              "    .dataframe thead th {\n",
              "        text-align: right;\n",
              "    }\n",
              "</style>\n",
              "<table border=\"1\" class=\"dataframe\">\n",
              "  <thead>\n",
              "    <tr style=\"text-align: center;\">\n",
              "      <th></th>\n",
              "      <th>PassengerId</th>\n",
              "      <th>Survived</th>\n",
              "      <th>Pclass</th>\n",
              "      <th>Name</th>\n",
              "      <th>Sex</th>\n",
              "      <th>Age</th>\n",
              "      <th>SibSp</th>\n",
              "      <th>Parch</th>\n",
              "      <th>Ticket</th>\n",
              "      <th>Fare</th>\n",
              "      <th>Cabin</th>\n",
              "      <th>Embarked</th>\n",
              "    </tr>\n",
              "  </thead>\n",
              "  <tbody>\n",
              "    <tr>\n",
              "      <th>0</th>\n",
              "      <td>1</td>\n",
              "      <td>0</td>\n",
              "      <td>3</td>\n",
              "      <td>Braund, Mr. Owen Harris</td>\n",
              "      <td>male</td>\n",
              "      <td>22</td>\n",
              "      <td>1</td>\n",
              "      <td>0</td>\n",
              "      <td>A/5 21171</td>\n",
              "      <td>7</td>\n",
              "      <td>NaN</td>\n",
              "      <td>S</td>\n",
              "    </tr>\n",
              "    <tr>\n",
              "      <th>1</th>\n",
              "      <td>2</td>\n",
              "      <td>1</td>\n",
              "      <td>1</td>\n",
              "      <td>Cumings, Mrs. John Bradley (Florence Briggs Th...</td>\n",
              "      <td>female</td>\n",
              "      <td>38</td>\n",
              "      <td>1</td>\n",
              "      <td>0</td>\n",
              "      <td>PC 17599</td>\n",
              "      <td>71</td>\n",
              "      <td>C85</td>\n",
              "      <td>C</td>\n",
              "    </tr>\n",
              "    <tr>\n",
              "      <th>2</th>\n",
              "      <td>3</td>\n",
              "      <td>1</td>\n",
              "      <td>3</td>\n",
              "      <td>Heikkinen, Miss. Laina</td>\n",
              "      <td>female</td>\n",
              "      <td>26</td>\n",
              "      <td>0</td>\n",
              "      <td>0</td>\n",
              "      <td>STON/O2. 3101282</td>\n",
              "      <td>8</td>\n",
              "      <td>NaN</td>\n",
              "      <td>S</td>\n",
              "    </tr>\n",
              "    <tr>\n",
              "      <th>3</th>\n",
              "      <td>4</td>\n",
              "      <td>1</td>\n",
              "      <td>1</td>\n",
              "      <td>Futrelle, Mrs. Jacques Heath (Lily May Peel)</td>\n",
              "      <td>female</td>\n",
              "      <td>35</td>\n",
              "      <td>1</td>\n",
              "      <td>0</td>\n",
              "      <td>113803</td>\n",
              "      <td>53</td>\n",
              "      <td>C123</td>\n",
              "      <td>S</td>\n",
              "    </tr>\n",
              "    <tr>\n",
              "      <th>4</th>\n",
              "      <td>5</td>\n",
              "      <td>0</td>\n",
              "      <td>3</td>\n",
              "      <td>Allen, Mr. William Henry</td>\n",
              "      <td>male</td>\n",
              "      <td>35</td>\n",
              "      <td>0</td>\n",
              "      <td>0</td>\n",
              "      <td>373450</td>\n",
              "      <td>8</td>\n",
              "      <td>NaN</td>\n",
              "      <td>S</td>\n",
              "    </tr>\n",
              "  </tbody>\n",
              "</table>\n",
              "</div>\n",
              "      <button class=\"colab-df-convert\" onclick=\"convertToInteractive('df-e7a61e89-a3da-4e80-8d7c-38796cb9b8a3')\"\n",
              "              title=\"Convert this dataframe to an interactive table.\"\n",
              "              style=\"display:none;\">\n",
              "        \n",
              "  <svg xmlns=\"http://www.w3.org/2000/svg\" height=\"24px\"viewBox=\"0 0 24 24\"\n",
              "       width=\"24px\">\n",
              "    <path d=\"M0 0h24v24H0V0z\" fill=\"none\"/>\n",
              "    <path d=\"M18.56 5.44l.94 2.06.94-2.06 2.06-.94-2.06-.94-.94-2.06-.94 2.06-2.06.94zm-11 1L8.5 8.5l.94-2.06 2.06-.94-2.06-.94L8.5 2.5l-.94 2.06-2.06.94zm10 10l.94 2.06.94-2.06 2.06-.94-2.06-.94-.94-2.06-.94 2.06-2.06.94z\"/><path d=\"M17.41 7.96l-1.37-1.37c-.4-.4-.92-.59-1.43-.59-.52 0-1.04.2-1.43.59L10.3 9.45l-7.72 7.72c-.78.78-.78 2.05 0 2.83L4 21.41c.39.39.9.59 1.41.59.51 0 1.02-.2 1.41-.59l7.78-7.78 2.81-2.81c.8-.78.8-2.07 0-2.86zM5.41 20L4 18.59l7.72-7.72 1.47 1.35L5.41 20z\"/>\n",
              "  </svg>\n",
              "      </button>\n",
              "      \n",
              "  <style>\n",
              "    .colab-df-container {\n",
              "      display:flex;\n",
              "      flex-wrap:wrap;\n",
              "      gap: 12px;\n",
              "    }\n",
              "\n",
              "    .colab-df-convert {\n",
              "      background-color: #E8F0FE;\n",
              "      border: none;\n",
              "      border-radius: 50%;\n",
              "      cursor: pointer;\n",
              "      display: none;\n",
              "      fill: #1967D2;\n",
              "      height: 32px;\n",
              "      padding: 0 0 0 0;\n",
              "      width: 32px;\n",
              "    }\n",
              "\n",
              "    .colab-df-convert:hover {\n",
              "      background-color: #E2EBFA;\n",
              "      box-shadow: 0px 1px 2px rgba(60, 64, 67, 0.3), 0px 1px 3px 1px rgba(60, 64, 67, 0.15);\n",
              "      fill: #174EA6;\n",
              "    }\n",
              "\n",
              "    [theme=dark] .colab-df-convert {\n",
              "      background-color: #3B4455;\n",
              "      fill: #D2E3FC;\n",
              "    }\n",
              "\n",
              "    [theme=dark] .colab-df-convert:hover {\n",
              "      background-color: #434B5C;\n",
              "      box-shadow: 0px 1px 3px 1px rgba(0, 0, 0, 0.15);\n",
              "      filter: drop-shadow(0px 1px 2px rgba(0, 0, 0, 0.3));\n",
              "      fill: #FFFFFF;\n",
              "    }\n",
              "  </style>\n",
              "\n",
              "      <script>\n",
              "        const buttonEl =\n",
              "          document.querySelector('#df-e7a61e89-a3da-4e80-8d7c-38796cb9b8a3 button.colab-df-convert');\n",
              "        buttonEl.style.display =\n",
              "          google.colab.kernel.accessAllowed ? 'block' : 'none';\n",
              "\n",
              "        async function convertToInteractive(key) {\n",
              "          const element = document.querySelector('#df-e7a61e89-a3da-4e80-8d7c-38796cb9b8a3');\n",
              "          const dataTable =\n",
              "            await google.colab.kernel.invokeFunction('convertToInteractive',\n",
              "                                                     [key], {});\n",
              "          if (!dataTable) return;\n",
              "\n",
              "          const docLinkHtml = 'Like what you see? Visit the ' +\n",
              "            '<a target=\"_blank\" href=https://colab.research.google.com/notebooks/data_table.ipynb>data table notebook</a>'\n",
              "            + ' to learn more about interactive tables.';\n",
              "          element.innerHTML = '';\n",
              "          dataTable['output_type'] = 'display_data';\n",
              "          await google.colab.output.renderOutput(dataTable, element);\n",
              "          const docLink = document.createElement('div');\n",
              "          docLink.innerHTML = docLinkHtml;\n",
              "          element.appendChild(docLink);\n",
              "        }\n",
              "      </script>\n",
              "    </div>\n",
              "  </div>\n",
              "  "
            ]
          },
          "metadata": {},
          "execution_count": 239
        }
      ]
    },
    {
      "cell_type": "markdown",
      "metadata": {
        "id": "S81TIhCQtPtC"
      },
      "source": [
        "2. Получите имена столбцов."
      ]
    },
    {
      "cell_type": "code",
      "source": [
        "df.columns"
      ],
      "metadata": {
        "colab": {
          "base_uri": "https://localhost:8080/"
        },
        "id": "S4mZna5Hr86C",
        "outputId": "b14c6f81-cdf1-47f2-b796-a16b02c6b35e"
      },
      "execution_count": null,
      "outputs": [
        {
          "output_type": "execute_result",
          "data": {
            "text/plain": [
              "Index(['PassengerId', 'Survived', 'Pclass', 'Sex', 'Age', 'SibSp', 'Parch',\n",
              "       'Ticket', 'Fare', 'Cabin', 'Embarked'],\n",
              "      dtype='object')"
            ]
          },
          "metadata": {},
          "execution_count": 159
        }
      ]
    },
    {
      "cell_type": "markdown",
      "source": [
        "Oops! That's a for loop"
      ],
      "metadata": {
        "id": "fyaqvY_E3SVo"
      }
    },
    {
      "cell_type": "code",
      "source": [
        "for i in df.columns:\n",
        "    print(i)"
      ],
      "metadata": {
        "colab": {
          "base_uri": "https://localhost:8080/"
        },
        "id": "3hVX6FAb3O-k",
        "outputId": "2a64aac9-0222-49a8-edd2-f1fda157a7d7"
      },
      "execution_count": null,
      "outputs": [
        {
          "output_type": "stream",
          "name": "stdout",
          "text": [
            "PassengerId\n",
            "Survived\n",
            "Pclass\n",
            "Name\n",
            "Sex\n",
            "Age\n",
            "SibSp\n",
            "Parch\n",
            "Ticket\n",
            "Fare\n",
            "Cabin\n",
            "Embarked\n"
          ]
        }
      ]
    },
    {
      "cell_type": "markdown",
      "metadata": {
        "id": "gLyYi1COtPtF"
      },
      "source": [
        "3. Перемешайте строки в случайном порядке."
      ]
    },
    {
      "cell_type": "code",
      "source": [
        "df_shuffle = df.sample(frac=1).reset_index(drop=True)"
      ],
      "metadata": {
        "id": "VXWgMkmLsEjc"
      },
      "execution_count": null,
      "outputs": []
    },
    {
      "cell_type": "markdown",
      "metadata": {
        "id": "xkNUNCLZtPtG"
      },
      "source": [
        "4. Получите случайную подвыборку данных с возвращением и без."
      ]
    },
    {
      "cell_type": "code",
      "source": [
        "df_random_with_seed = df.sample(frac=0.6, random_state=66)\n",
        "df_random_without_seed = df.sample(frac=0.6)"
      ],
      "metadata": {
        "id": "zqkZUBVhspnY"
      },
      "execution_count": null,
      "outputs": []
    },
    {
      "cell_type": "markdown",
      "metadata": {
        "id": "rbt5B5OZtPtH"
      },
      "source": [
        "5. Разбейте данные случайным образом на две непересекающиеся подвыборки."
      ]
    },
    {
      "cell_type": "code",
      "source": [
        "random_number = int(666*np.random.rand(1))\n",
        "first_part, second_part = df_shuffle.iloc[:random_number,:], df_shuffle.iloc[random_number,:]"
      ],
      "metadata": {
        "id": "Zf3yx2q6uixy"
      },
      "execution_count": null,
      "outputs": []
    },
    {
      "cell_type": "markdown",
      "metadata": {
        "id": "rqEslsiotPtH"
      },
      "source": [
        "6. Проверьте, является ли признак **Name** уникальным для каждого пассажира, если да, то сделайте его новым индексом данных."
      ]
    },
    {
      "cell_type": "code",
      "source": [
        "print(df.Name.nunique() == len(df.Name))\n",
        "df.Name.is_unique"
      ],
      "metadata": {
        "colab": {
          "base_uri": "https://localhost:8080/"
        },
        "id": "h-BzBPn_xk55",
        "outputId": "90306e29-2196-4128-baf1-def31271b784"
      },
      "execution_count": null,
      "outputs": [
        {
          "output_type": "stream",
          "name": "stdout",
          "text": [
            "True\n"
          ]
        },
        {
          "output_type": "execute_result",
          "data": {
            "text/plain": [
              "True"
            ]
          },
          "metadata": {},
          "execution_count": 90
        }
      ]
    },
    {
      "cell_type": "code",
      "source": [
        "df = df.set_index('Name')"
      ],
      "metadata": {
        "id": "S32Na-Q-yE3S"
      },
      "execution_count": null,
      "outputs": []
    },
    {
      "cell_type": "markdown",
      "metadata": {
        "id": "u-y4NexrtPtI"
      },
      "source": [
        "7. Проверьте, содержат ли данные пропуски, если да, то заполните их."
      ]
    },
    {
      "cell_type": "code",
      "source": [
        "def display_null(df):\n",
        "  df_null_series = df.isnull().sum()\n",
        "  df_null = pd.DataFrame(data=df_null_series, columns=['Num of nan'])\n",
        "  df_null['% of nan'] = round((df.isnull().sum() / df.shape[0]) * 100)\n",
        "  display(df_null)\n",
        "\n",
        "display_null(df)"
      ],
      "metadata": {
        "colab": {
          "base_uri": "https://localhost:8080/",
          "height": 394
        },
        "id": "6q-dYZjV7l-V",
        "outputId": "eea143f0-7fd8-4949-c687-b4e000fde338"
      },
      "execution_count": null,
      "outputs": [
        {
          "output_type": "display_data",
          "data": {
            "text/plain": [
              "             Num of nan  % of nan\n",
              "PassengerId        0         0   \n",
              "Survived           0         0   \n",
              "Pclass             0         0   \n",
              "Sex                0         0   \n",
              "Age              177        20   \n",
              "SibSp              0         0   \n",
              "Parch              0         0   \n",
              "Ticket             0         0   \n",
              "Fare               0         0   \n",
              "Cabin            687        77   \n",
              "Embarked           2         0   "
            ],
            "text/html": [
              "\n",
              "  <div id=\"df-b996d615-45c3-4a47-8e04-d6bb56bd17f1\">\n",
              "    <div class=\"colab-df-container\">\n",
              "      <div>\n",
              "<style scoped>\n",
              "    .dataframe tbody tr th:only-of-type {\n",
              "        vertical-align: middle;\n",
              "    }\n",
              "\n",
              "    .dataframe tbody tr th {\n",
              "        vertical-align: top;\n",
              "    }\n",
              "\n",
              "    .dataframe thead th {\n",
              "        text-align: right;\n",
              "    }\n",
              "</style>\n",
              "<table border=\"1\" class=\"dataframe\">\n",
              "  <thead>\n",
              "    <tr style=\"text-align: center;\">\n",
              "      <th></th>\n",
              "      <th>Num of nan</th>\n",
              "      <th>% of nan</th>\n",
              "    </tr>\n",
              "  </thead>\n",
              "  <tbody>\n",
              "    <tr>\n",
              "      <th>PassengerId</th>\n",
              "      <td>0</td>\n",
              "      <td>0</td>\n",
              "    </tr>\n",
              "    <tr>\n",
              "      <th>Survived</th>\n",
              "      <td>0</td>\n",
              "      <td>0</td>\n",
              "    </tr>\n",
              "    <tr>\n",
              "      <th>Pclass</th>\n",
              "      <td>0</td>\n",
              "      <td>0</td>\n",
              "    </tr>\n",
              "    <tr>\n",
              "      <th>Sex</th>\n",
              "      <td>0</td>\n",
              "      <td>0</td>\n",
              "    </tr>\n",
              "    <tr>\n",
              "      <th>Age</th>\n",
              "      <td>177</td>\n",
              "      <td>20</td>\n",
              "    </tr>\n",
              "    <tr>\n",
              "      <th>SibSp</th>\n",
              "      <td>0</td>\n",
              "      <td>0</td>\n",
              "    </tr>\n",
              "    <tr>\n",
              "      <th>Parch</th>\n",
              "      <td>0</td>\n",
              "      <td>0</td>\n",
              "    </tr>\n",
              "    <tr>\n",
              "      <th>Ticket</th>\n",
              "      <td>0</td>\n",
              "      <td>0</td>\n",
              "    </tr>\n",
              "    <tr>\n",
              "      <th>Fare</th>\n",
              "      <td>0</td>\n",
              "      <td>0</td>\n",
              "    </tr>\n",
              "    <tr>\n",
              "      <th>Cabin</th>\n",
              "      <td>687</td>\n",
              "      <td>77</td>\n",
              "    </tr>\n",
              "    <tr>\n",
              "      <th>Embarked</th>\n",
              "      <td>2</td>\n",
              "      <td>0</td>\n",
              "    </tr>\n",
              "  </tbody>\n",
              "</table>\n",
              "</div>\n",
              "      <button class=\"colab-df-convert\" onclick=\"convertToInteractive('df-b996d615-45c3-4a47-8e04-d6bb56bd17f1')\"\n",
              "              title=\"Convert this dataframe to an interactive table.\"\n",
              "              style=\"display:none;\">\n",
              "        \n",
              "  <svg xmlns=\"http://www.w3.org/2000/svg\" height=\"24px\"viewBox=\"0 0 24 24\"\n",
              "       width=\"24px\">\n",
              "    <path d=\"M0 0h24v24H0V0z\" fill=\"none\"/>\n",
              "    <path d=\"M18.56 5.44l.94 2.06.94-2.06 2.06-.94-2.06-.94-.94-2.06-.94 2.06-2.06.94zm-11 1L8.5 8.5l.94-2.06 2.06-.94-2.06-.94L8.5 2.5l-.94 2.06-2.06.94zm10 10l.94 2.06.94-2.06 2.06-.94-2.06-.94-.94-2.06-.94 2.06-2.06.94z\"/><path d=\"M17.41 7.96l-1.37-1.37c-.4-.4-.92-.59-1.43-.59-.52 0-1.04.2-1.43.59L10.3 9.45l-7.72 7.72c-.78.78-.78 2.05 0 2.83L4 21.41c.39.39.9.59 1.41.59.51 0 1.02-.2 1.41-.59l7.78-7.78 2.81-2.81c.8-.78.8-2.07 0-2.86zM5.41 20L4 18.59l7.72-7.72 1.47 1.35L5.41 20z\"/>\n",
              "  </svg>\n",
              "      </button>\n",
              "      \n",
              "  <style>\n",
              "    .colab-df-container {\n",
              "      display:flex;\n",
              "      flex-wrap:wrap;\n",
              "      gap: 12px;\n",
              "    }\n",
              "\n",
              "    .colab-df-convert {\n",
              "      background-color: #E8F0FE;\n",
              "      border: none;\n",
              "      border-radius: 50%;\n",
              "      cursor: pointer;\n",
              "      display: none;\n",
              "      fill: #1967D2;\n",
              "      height: 32px;\n",
              "      padding: 0 0 0 0;\n",
              "      width: 32px;\n",
              "    }\n",
              "\n",
              "    .colab-df-convert:hover {\n",
              "      background-color: #E2EBFA;\n",
              "      box-shadow: 0px 1px 2px rgba(60, 64, 67, 0.3), 0px 1px 3px 1px rgba(60, 64, 67, 0.15);\n",
              "      fill: #174EA6;\n",
              "    }\n",
              "\n",
              "    [theme=dark] .colab-df-convert {\n",
              "      background-color: #3B4455;\n",
              "      fill: #D2E3FC;\n",
              "    }\n",
              "\n",
              "    [theme=dark] .colab-df-convert:hover {\n",
              "      background-color: #434B5C;\n",
              "      box-shadow: 0px 1px 3px 1px rgba(0, 0, 0, 0.15);\n",
              "      filter: drop-shadow(0px 1px 2px rgba(0, 0, 0, 0.3));\n",
              "      fill: #FFFFFF;\n",
              "    }\n",
              "  </style>\n",
              "\n",
              "      <script>\n",
              "        const buttonEl =\n",
              "          document.querySelector('#df-b996d615-45c3-4a47-8e04-d6bb56bd17f1 button.colab-df-convert');\n",
              "        buttonEl.style.display =\n",
              "          google.colab.kernel.accessAllowed ? 'block' : 'none';\n",
              "\n",
              "        async function convertToInteractive(key) {\n",
              "          const element = document.querySelector('#df-b996d615-45c3-4a47-8e04-d6bb56bd17f1');\n",
              "          const dataTable =\n",
              "            await google.colab.kernel.invokeFunction('convertToInteractive',\n",
              "                                                     [key], {});\n",
              "          if (!dataTable) return;\n",
              "\n",
              "          const docLinkHtml = 'Like what you see? Visit the ' +\n",
              "            '<a target=\"_blank\" href=https://colab.research.google.com/notebooks/data_table.ipynb>data table notebook</a>'\n",
              "            + ' to learn more about interactive tables.';\n",
              "          element.innerHTML = '';\n",
              "          dataTable['output_type'] = 'display_data';\n",
              "          await google.colab.output.renderOutput(dataTable, element);\n",
              "          const docLink = document.createElement('div');\n",
              "          docLink.innerHTML = docLinkHtml;\n",
              "          element.appendChild(docLink);\n",
              "        }\n",
              "      </script>\n",
              "    </div>\n",
              "  </div>\n",
              "  "
            ]
          },
          "metadata": {}
        }
      ]
    },
    {
      "cell_type": "markdown",
      "source": [
        "![](https://vignette.wikia.nocookie.net/titanic/images/f/f9/Titanic_side_plan.png/revision/latest?cb=20180322183733)"
      ],
      "metadata": {
        "id": "ot_HIyCMG_tj"
      }
    },
    {
      "cell_type": "code",
      "source": [
        "df['Cabin_new'] = df.Cabin.apply(lambda x: x[0] if pd.notnull(x) else 'M')\n",
        "df['Cabin_new'] = df['Cabin_new'].replace(['A', 'B', 'C', 'T'], 'ABCT')\n",
        "df['Cabin_new'] = df['Cabin_new'].replace(['D', 'E'], 'DE')\n",
        "df['Cabin_new'] = df['Cabin_new'].replace(['F', 'G'], 'FG')\n",
        "df['Age'] = df.groupby(['Sex', 'Pclass'])['Age'].apply(lambda x: x.fillna(x.median()))"
      ],
      "metadata": {
        "id": "p6MiFF1s4kT-"
      },
      "execution_count": null,
      "outputs": []
    },
    {
      "cell_type": "markdown",
      "source": [
        "Embarked is a categorical feature and there are only 2 missing values in whole data set. Both of those passengers are female, upper class and they have the same ticket number. This means that they know each other and embarked from the same port together. "
      ],
      "metadata": {
        "id": "Ihyzq9VeFl7g"
      }
    },
    {
      "cell_type": "code",
      "source": [
        "df[df['Embarked'].isnull()]"
      ],
      "metadata": {
        "colab": {
          "base_uri": "https://localhost:8080/",
          "height": 240
        },
        "id": "4YZQ9sPUFwuu",
        "outputId": "b97cc2fa-5f74-4fb0-8a8d-ce597b52257c"
      },
      "execution_count": null,
      "outputs": [
        {
          "output_type": "execute_result",
          "data": {
            "text/plain": [
              "                                           PassengerId  Survived  Pclass   Sex    Age  SibSp  Parch  Ticket  Fare Cabin Embarked Cabin_new\n",
              "Name                                                                                                                                      \n",
              "Icard, Miss. Amelie                             62          1        1    female  38     0      0    113572   80    B28    NaN      ABCT  \n",
              "Stone, Mrs. George Nelson (Martha Evelyn)      830          1        1    female  62     0      0    113572   80    B28    NaN      ABCT  "
            ],
            "text/html": [
              "\n",
              "  <div id=\"df-379d72c1-fd72-4474-9642-70f0bb713aaa\">\n",
              "    <div class=\"colab-df-container\">\n",
              "      <div>\n",
              "<style scoped>\n",
              "    .dataframe tbody tr th:only-of-type {\n",
              "        vertical-align: middle;\n",
              "    }\n",
              "\n",
              "    .dataframe tbody tr th {\n",
              "        vertical-align: top;\n",
              "    }\n",
              "\n",
              "    .dataframe thead th {\n",
              "        text-align: right;\n",
              "    }\n",
              "</style>\n",
              "<table border=\"1\" class=\"dataframe\">\n",
              "  <thead>\n",
              "    <tr style=\"text-align: center;\">\n",
              "      <th></th>\n",
              "      <th>PassengerId</th>\n",
              "      <th>Survived</th>\n",
              "      <th>Pclass</th>\n",
              "      <th>Sex</th>\n",
              "      <th>Age</th>\n",
              "      <th>SibSp</th>\n",
              "      <th>Parch</th>\n",
              "      <th>Ticket</th>\n",
              "      <th>Fare</th>\n",
              "      <th>Cabin</th>\n",
              "      <th>Embarked</th>\n",
              "      <th>Cabin_new</th>\n",
              "    </tr>\n",
              "    <tr>\n",
              "      <th>Name</th>\n",
              "      <th></th>\n",
              "      <th></th>\n",
              "      <th></th>\n",
              "      <th></th>\n",
              "      <th></th>\n",
              "      <th></th>\n",
              "      <th></th>\n",
              "      <th></th>\n",
              "      <th></th>\n",
              "      <th></th>\n",
              "      <th></th>\n",
              "      <th></th>\n",
              "    </tr>\n",
              "  </thead>\n",
              "  <tbody>\n",
              "    <tr>\n",
              "      <th>Icard, Miss. Amelie</th>\n",
              "      <td>62</td>\n",
              "      <td>1</td>\n",
              "      <td>1</td>\n",
              "      <td>female</td>\n",
              "      <td>38</td>\n",
              "      <td>0</td>\n",
              "      <td>0</td>\n",
              "      <td>113572</td>\n",
              "      <td>80</td>\n",
              "      <td>B28</td>\n",
              "      <td>NaN</td>\n",
              "      <td>ABCT</td>\n",
              "    </tr>\n",
              "    <tr>\n",
              "      <th>Stone, Mrs. George Nelson (Martha Evelyn)</th>\n",
              "      <td>830</td>\n",
              "      <td>1</td>\n",
              "      <td>1</td>\n",
              "      <td>female</td>\n",
              "      <td>62</td>\n",
              "      <td>0</td>\n",
              "      <td>0</td>\n",
              "      <td>113572</td>\n",
              "      <td>80</td>\n",
              "      <td>B28</td>\n",
              "      <td>NaN</td>\n",
              "      <td>ABCT</td>\n",
              "    </tr>\n",
              "  </tbody>\n",
              "</table>\n",
              "</div>\n",
              "      <button class=\"colab-df-convert\" onclick=\"convertToInteractive('df-379d72c1-fd72-4474-9642-70f0bb713aaa')\"\n",
              "              title=\"Convert this dataframe to an interactive table.\"\n",
              "              style=\"display:none;\">\n",
              "        \n",
              "  <svg xmlns=\"http://www.w3.org/2000/svg\" height=\"24px\"viewBox=\"0 0 24 24\"\n",
              "       width=\"24px\">\n",
              "    <path d=\"M0 0h24v24H0V0z\" fill=\"none\"/>\n",
              "    <path d=\"M18.56 5.44l.94 2.06.94-2.06 2.06-.94-2.06-.94-.94-2.06-.94 2.06-2.06.94zm-11 1L8.5 8.5l.94-2.06 2.06-.94-2.06-.94L8.5 2.5l-.94 2.06-2.06.94zm10 10l.94 2.06.94-2.06 2.06-.94-2.06-.94-.94-2.06-.94 2.06-2.06.94z\"/><path d=\"M17.41 7.96l-1.37-1.37c-.4-.4-.92-.59-1.43-.59-.52 0-1.04.2-1.43.59L10.3 9.45l-7.72 7.72c-.78.78-.78 2.05 0 2.83L4 21.41c.39.39.9.59 1.41.59.51 0 1.02-.2 1.41-.59l7.78-7.78 2.81-2.81c.8-.78.8-2.07 0-2.86zM5.41 20L4 18.59l7.72-7.72 1.47 1.35L5.41 20z\"/>\n",
              "  </svg>\n",
              "      </button>\n",
              "      \n",
              "  <style>\n",
              "    .colab-df-container {\n",
              "      display:flex;\n",
              "      flex-wrap:wrap;\n",
              "      gap: 12px;\n",
              "    }\n",
              "\n",
              "    .colab-df-convert {\n",
              "      background-color: #E8F0FE;\n",
              "      border: none;\n",
              "      border-radius: 50%;\n",
              "      cursor: pointer;\n",
              "      display: none;\n",
              "      fill: #1967D2;\n",
              "      height: 32px;\n",
              "      padding: 0 0 0 0;\n",
              "      width: 32px;\n",
              "    }\n",
              "\n",
              "    .colab-df-convert:hover {\n",
              "      background-color: #E2EBFA;\n",
              "      box-shadow: 0px 1px 2px rgba(60, 64, 67, 0.3), 0px 1px 3px 1px rgba(60, 64, 67, 0.15);\n",
              "      fill: #174EA6;\n",
              "    }\n",
              "\n",
              "    [theme=dark] .colab-df-convert {\n",
              "      background-color: #3B4455;\n",
              "      fill: #D2E3FC;\n",
              "    }\n",
              "\n",
              "    [theme=dark] .colab-df-convert:hover {\n",
              "      background-color: #434B5C;\n",
              "      box-shadow: 0px 1px 3px 1px rgba(0, 0, 0, 0.15);\n",
              "      filter: drop-shadow(0px 1px 2px rgba(0, 0, 0, 0.3));\n",
              "      fill: #FFFFFF;\n",
              "    }\n",
              "  </style>\n",
              "\n",
              "      <script>\n",
              "        const buttonEl =\n",
              "          document.querySelector('#df-379d72c1-fd72-4474-9642-70f0bb713aaa button.colab-df-convert');\n",
              "        buttonEl.style.display =\n",
              "          google.colab.kernel.accessAllowed ? 'block' : 'none';\n",
              "\n",
              "        async function convertToInteractive(key) {\n",
              "          const element = document.querySelector('#df-379d72c1-fd72-4474-9642-70f0bb713aaa');\n",
              "          const dataTable =\n",
              "            await google.colab.kernel.invokeFunction('convertToInteractive',\n",
              "                                                     [key], {});\n",
              "          if (!dataTable) return;\n",
              "\n",
              "          const docLinkHtml = 'Like what you see? Visit the ' +\n",
              "            '<a target=\"_blank\" href=https://colab.research.google.com/notebooks/data_table.ipynb>data table notebook</a>'\n",
              "            + ' to learn more about interactive tables.';\n",
              "          element.innerHTML = '';\n",
              "          dataTable['output_type'] = 'display_data';\n",
              "          await google.colab.output.renderOutput(dataTable, element);\n",
              "          const docLink = document.createElement('div');\n",
              "          docLink.innerHTML = docLinkHtml;\n",
              "          element.appendChild(docLink);\n",
              "        }\n",
              "      </script>\n",
              "    </div>\n",
              "  </div>\n",
              "  "
            ]
          },
          "metadata": {},
          "execution_count": 243
        }
      ]
    },
    {
      "cell_type": "markdown",
      "source": [
        "When I googled Stone, Mrs. George Nelson (Martha Evelyn), I found that she embarked from S (Southampton) with her maid Amelie Icard, in this page [Martha Evelyn Stone: Titanic Survivor](https://www.encyclopedia-titanica.org/titanic-survivor/martha-evelyn-stone.html)."
      ],
      "metadata": {
        "id": "WSvf4wAZGGDp"
      }
    },
    {
      "cell_type": "code",
      "source": [
        "df['Embarked'] = df['Embarked'].fillna('S')\n",
        "df.drop(['Cabin'], axis=1, inplace=True)\n",
        "display_null(df)"
      ],
      "metadata": {
        "colab": {
          "base_uri": "https://localhost:8080/",
          "height": 394
        },
        "id": "zP5qZb9xGCjh",
        "outputId": "1600d07a-538d-4f82-e449-989c735a68b1"
      },
      "execution_count": null,
      "outputs": [
        {
          "output_type": "display_data",
          "data": {
            "text/plain": [
              "             Num of nan  % of nan\n",
              "PassengerId       0          0   \n",
              "Survived          0          0   \n",
              "Pclass            0          0   \n",
              "Sex               0          0   \n",
              "Age               0          0   \n",
              "SibSp             0          0   \n",
              "Parch             0          0   \n",
              "Ticket            0          0   \n",
              "Fare              0          0   \n",
              "Embarked          0          0   \n",
              "Cabin_new         0          0   "
            ],
            "text/html": [
              "\n",
              "  <div id=\"df-7532924e-0d4e-4014-b905-acd504818a15\">\n",
              "    <div class=\"colab-df-container\">\n",
              "      <div>\n",
              "<style scoped>\n",
              "    .dataframe tbody tr th:only-of-type {\n",
              "        vertical-align: middle;\n",
              "    }\n",
              "\n",
              "    .dataframe tbody tr th {\n",
              "        vertical-align: top;\n",
              "    }\n",
              "\n",
              "    .dataframe thead th {\n",
              "        text-align: right;\n",
              "    }\n",
              "</style>\n",
              "<table border=\"1\" class=\"dataframe\">\n",
              "  <thead>\n",
              "    <tr style=\"text-align: center;\">\n",
              "      <th></th>\n",
              "      <th>Num of nan</th>\n",
              "      <th>% of nan</th>\n",
              "    </tr>\n",
              "  </thead>\n",
              "  <tbody>\n",
              "    <tr>\n",
              "      <th>PassengerId</th>\n",
              "      <td>0</td>\n",
              "      <td>0</td>\n",
              "    </tr>\n",
              "    <tr>\n",
              "      <th>Survived</th>\n",
              "      <td>0</td>\n",
              "      <td>0</td>\n",
              "    </tr>\n",
              "    <tr>\n",
              "      <th>Pclass</th>\n",
              "      <td>0</td>\n",
              "      <td>0</td>\n",
              "    </tr>\n",
              "    <tr>\n",
              "      <th>Sex</th>\n",
              "      <td>0</td>\n",
              "      <td>0</td>\n",
              "    </tr>\n",
              "    <tr>\n",
              "      <th>Age</th>\n",
              "      <td>0</td>\n",
              "      <td>0</td>\n",
              "    </tr>\n",
              "    <tr>\n",
              "      <th>SibSp</th>\n",
              "      <td>0</td>\n",
              "      <td>0</td>\n",
              "    </tr>\n",
              "    <tr>\n",
              "      <th>Parch</th>\n",
              "      <td>0</td>\n",
              "      <td>0</td>\n",
              "    </tr>\n",
              "    <tr>\n",
              "      <th>Ticket</th>\n",
              "      <td>0</td>\n",
              "      <td>0</td>\n",
              "    </tr>\n",
              "    <tr>\n",
              "      <th>Fare</th>\n",
              "      <td>0</td>\n",
              "      <td>0</td>\n",
              "    </tr>\n",
              "    <tr>\n",
              "      <th>Embarked</th>\n",
              "      <td>0</td>\n",
              "      <td>0</td>\n",
              "    </tr>\n",
              "    <tr>\n",
              "      <th>Cabin_new</th>\n",
              "      <td>0</td>\n",
              "      <td>0</td>\n",
              "    </tr>\n",
              "  </tbody>\n",
              "</table>\n",
              "</div>\n",
              "      <button class=\"colab-df-convert\" onclick=\"convertToInteractive('df-7532924e-0d4e-4014-b905-acd504818a15')\"\n",
              "              title=\"Convert this dataframe to an interactive table.\"\n",
              "              style=\"display:none;\">\n",
              "        \n",
              "  <svg xmlns=\"http://www.w3.org/2000/svg\" height=\"24px\"viewBox=\"0 0 24 24\"\n",
              "       width=\"24px\">\n",
              "    <path d=\"M0 0h24v24H0V0z\" fill=\"none\"/>\n",
              "    <path d=\"M18.56 5.44l.94 2.06.94-2.06 2.06-.94-2.06-.94-.94-2.06-.94 2.06-2.06.94zm-11 1L8.5 8.5l.94-2.06 2.06-.94-2.06-.94L8.5 2.5l-.94 2.06-2.06.94zm10 10l.94 2.06.94-2.06 2.06-.94-2.06-.94-.94-2.06-.94 2.06-2.06.94z\"/><path d=\"M17.41 7.96l-1.37-1.37c-.4-.4-.92-.59-1.43-.59-.52 0-1.04.2-1.43.59L10.3 9.45l-7.72 7.72c-.78.78-.78 2.05 0 2.83L4 21.41c.39.39.9.59 1.41.59.51 0 1.02-.2 1.41-.59l7.78-7.78 2.81-2.81c.8-.78.8-2.07 0-2.86zM5.41 20L4 18.59l7.72-7.72 1.47 1.35L5.41 20z\"/>\n",
              "  </svg>\n",
              "      </button>\n",
              "      \n",
              "  <style>\n",
              "    .colab-df-container {\n",
              "      display:flex;\n",
              "      flex-wrap:wrap;\n",
              "      gap: 12px;\n",
              "    }\n",
              "\n",
              "    .colab-df-convert {\n",
              "      background-color: #E8F0FE;\n",
              "      border: none;\n",
              "      border-radius: 50%;\n",
              "      cursor: pointer;\n",
              "      display: none;\n",
              "      fill: #1967D2;\n",
              "      height: 32px;\n",
              "      padding: 0 0 0 0;\n",
              "      width: 32px;\n",
              "    }\n",
              "\n",
              "    .colab-df-convert:hover {\n",
              "      background-color: #E2EBFA;\n",
              "      box-shadow: 0px 1px 2px rgba(60, 64, 67, 0.3), 0px 1px 3px 1px rgba(60, 64, 67, 0.15);\n",
              "      fill: #174EA6;\n",
              "    }\n",
              "\n",
              "    [theme=dark] .colab-df-convert {\n",
              "      background-color: #3B4455;\n",
              "      fill: #D2E3FC;\n",
              "    }\n",
              "\n",
              "    [theme=dark] .colab-df-convert:hover {\n",
              "      background-color: #434B5C;\n",
              "      box-shadow: 0px 1px 3px 1px rgba(0, 0, 0, 0.15);\n",
              "      filter: drop-shadow(0px 1px 2px rgba(0, 0, 0, 0.3));\n",
              "      fill: #FFFFFF;\n",
              "    }\n",
              "  </style>\n",
              "\n",
              "      <script>\n",
              "        const buttonEl =\n",
              "          document.querySelector('#df-7532924e-0d4e-4014-b905-acd504818a15 button.colab-df-convert');\n",
              "        buttonEl.style.display =\n",
              "          google.colab.kernel.accessAllowed ? 'block' : 'none';\n",
              "\n",
              "        async function convertToInteractive(key) {\n",
              "          const element = document.querySelector('#df-7532924e-0d4e-4014-b905-acd504818a15');\n",
              "          const dataTable =\n",
              "            await google.colab.kernel.invokeFunction('convertToInteractive',\n",
              "                                                     [key], {});\n",
              "          if (!dataTable) return;\n",
              "\n",
              "          const docLinkHtml = 'Like what you see? Visit the ' +\n",
              "            '<a target=\"_blank\" href=https://colab.research.google.com/notebooks/data_table.ipynb>data table notebook</a>'\n",
              "            + ' to learn more about interactive tables.';\n",
              "          element.innerHTML = '';\n",
              "          dataTable['output_type'] = 'display_data';\n",
              "          await google.colab.output.renderOutput(dataTable, element);\n",
              "          const docLink = document.createElement('div');\n",
              "          docLink.innerHTML = docLinkHtml;\n",
              "          element.appendChild(docLink);\n",
              "        }\n",
              "      </script>\n",
              "    </div>\n",
              "  </div>\n",
              "  "
            ]
          },
          "metadata": {}
        }
      ]
    },
    {
      "cell_type": "markdown",
      "metadata": {
        "id": "Q1vTzSq9tPtJ"
      },
      "source": [
        "8. Определите, как много пассажиров ехало первым классом."
      ]
    },
    {
      "cell_type": "code",
      "source": [
        "first_class = df.Pclass.value_counts()\n",
        "print(f'The total number of first class passengers on a sinking ship: {first_class[1]}')"
      ],
      "metadata": {
        "colab": {
          "base_uri": "https://localhost:8080/"
        },
        "id": "GLJaKIs7JV1p",
        "outputId": "ea589f41-51f0-4227-b5e2-3ca40058548b"
      },
      "execution_count": null,
      "outputs": [
        {
          "output_type": "stream",
          "name": "stdout",
          "text": [
            "The total number of first class passengers on a sinking ship: 216\n"
          ]
        }
      ]
    },
    {
      "cell_type": "markdown",
      "metadata": {
        "id": "fTHm23IItPtJ"
      },
      "source": [
        "9. Постройте гистограмму возрастов пассажиров."
      ]
    },
    {
      "cell_type": "code",
      "source": [
        "plt.rc('figure', figsize=(15, 10))\n",
        "df_age = df['Age']\n",
        "plt.title('Passengers by Age Group')\n",
        "plt.xlabel('Age')\n",
        "plt.ylabel('Count')\n",
        "max_age = max(df['Age'])\n",
        "plt.hist([df_age],\n",
        "         bins=8,\n",
        "         range=(1, max_age),\n",
        "         stacked=True)\n",
        "plt.show()"
      ],
      "metadata": {
        "colab": {
          "base_uri": "https://localhost:8080/",
          "height": 549
        },
        "id": "ht8-AicLKgey",
        "outputId": "f3aa860f-b986-4153-95b1-a772b3783212"
      },
      "execution_count": null,
      "outputs": [
        {
          "output_type": "display_data",
          "data": {
            "text/plain": [
              "<Figure size 1080x720 with 1 Axes>"
            ],
            "image/png": "[encoded data removed]"
          },
          "metadata": {}
        }
      ]
    },
    {
      "cell_type": "markdown",
      "metadata": {
        "id": "n1xUK8XGtPtK"
      },
      "source": [
        "10. Определите средний возраст пассажиров, медианный возраст, дисперсию."
      ]
    },
    {
      "cell_type": "code",
      "source": [
        "print(f'Mean age: {int(df.Age.mean())}')\n",
        "print(f'Median age: {int(df.Age.median())}')\n",
        "print(f'Standard deviation: {int(df.Age.std())}\\n')\n",
        "df['Age'].describe()"
      ],
      "metadata": {
        "colab": {
          "base_uri": "https://localhost:8080/"
        },
        "id": "ETdrJnP-NBMW",
        "outputId": "6f0cafc4-e9e5-4708-e95a-ba8fc60d2b0c"
      },
      "execution_count": null,
      "outputs": [
        {
          "output_type": "stream",
          "name": "stdout",
          "text": [
            "Mean age: 29\n",
            "Median age: 26\n",
            "Standard deviation: 13\n",
            "\n"
          ]
        },
        {
          "output_type": "execute_result",
          "data": {
            "text/plain": [
              "count    891\n",
              "mean      29\n",
              "std       13\n",
              "min        0\n",
              "25%       21\n",
              "50%       26\n",
              "75%       36\n",
              "max       80\n",
              "Name: Age, dtype: float64"
            ]
          },
          "metadata": {},
          "execution_count": 290
        }
      ]
    },
    {
      "cell_type": "markdown",
      "metadata": {
        "id": "OcC10hY4tPtL"
      },
      "source": [
        "11. Добавьте признак, который показывает, какой процент пассажиров имели возраст строго меньше, чем данный пассажир."
      ]
    },
    {
      "cell_type": "code",
      "source": [
        "df['PerYounger'] = df['Age'].apply(lambda x: (df.Age[df.Age < x].count() / df.shape[0] * 100))\n",
        "df.head()"
      ],
      "metadata": {
        "colab": {
          "base_uri": "https://localhost:8080/",
          "height": 579
        },
        "id": "EAHCB-P3QjwI",
        "outputId": "9f011957-2b8f-4b10-f155-9939cf8385ba"
      },
      "execution_count": null,
      "outputs": [
        {
          "output_type": "execute_result",
          "data": {
            "text/plain": [
              "                                                    PassengerId  Survived  Pclass   Sex    Age  SibSp  Parch       Ticket       Fare Embarked Cabin_new  PerYounger\n",
              "Name                                                                                                                                                               \n",
              "Braund, Mr. Owen Harris                                  1           0        3      male  22     1      0           A/5 21171    7      S          M        28    \n",
              "Cumings, Mrs. John Bradley (Florence Briggs Tha...       2           1        1    female  38     1      0            PC 17599   71      C       ABCT        77    \n",
              "Heikkinen, Miss. Laina                                   3           1        3    female  26     0      0    STON/O2. 3101282    8      S          M        49    \n",
              "Futrelle, Mrs. Jacques Heath (Lily May Peel)             4           1        1    female  35     1      0              113803   53      S       ABCT        70    \n",
              "Allen, Mr. William Henry                                 5           0        3      male  35     0      0              373450    8      S          M        70    "
            ],
            "text/html": [
              "\n",
              "  <div id=\"df-6903b525-fb7d-45d4-8833-381493c79174\">\n",
              "    <div class=\"colab-df-container\">\n",
              "      <div>\n",
              "<style scoped>\n",
              "    .dataframe tbody tr th:only-of-type {\n",
              "        vertical-align: middle;\n",
              "    }\n",
              "\n",
              "    .dataframe tbody tr th {\n",
              "        vertical-align: top;\n",
              "    }\n",
              "\n",
              "    .dataframe thead th {\n",
              "        text-align: right;\n",
              "    }\n",
              "</style>\n",
              "<table border=\"1\" class=\"dataframe\">\n",
              "  <thead>\n",
              "    <tr style=\"text-align: center;\">\n",
              "      <th></th>\n",
              "      <th>PassengerId</th>\n",
              "      <th>Survived</th>\n",
              "      <th>Pclass</th>\n",
              "      <th>Sex</th>\n",
              "      <th>Age</th>\n",
              "      <th>SibSp</th>\n",
              "      <th>Parch</th>\n",
              "      <th>Ticket</th>\n",
              "      <th>Fare</th>\n",
              "      <th>Embarked</th>\n",
              "      <th>Cabin_new</th>\n",
              "      <th>PerYounger</th>\n",
              "    </tr>\n",
              "    <tr>\n",
              "      <th>Name</th>\n",
              "      <th></th>\n",
              "      <th></th>\n",
              "      <th></th>\n",
              "      <th></th>\n",
              "      <th></th>\n",
              "      <th></th>\n",
              "      <th></th>\n",
              "      <th></th>\n",
              "      <th></th>\n",
              "      <th></th>\n",
              "      <th></th>\n",
              "      <th></th>\n",
              "    </tr>\n",
              "  </thead>\n",
              "  <tbody>\n",
              "    <tr>\n",
              "      <th>Braund, Mr. Owen Harris</th>\n",
              "      <td>1</td>\n",
              "      <td>0</td>\n",
              "      <td>3</td>\n",
              "      <td>male</td>\n",
              "      <td>22</td>\n",
              "      <td>1</td>\n",
              "      <td>0</td>\n",
              "      <td>A/5 21171</td>\n",
              "      <td>7</td>\n",
              "      <td>S</td>\n",
              "      <td>M</td>\n",
              "      <td>28</td>\n",
              "    </tr>\n",
              "    <tr>\n",
              "      <th>Cumings, Mrs. John Bradley (Florence Briggs Thayer)</th>\n",
              "      <td>2</td>\n",
              "      <td>1</td>\n",
              "      <td>1</td>\n",
              "      <td>female</td>\n",
              "      <td>38</td>\n",
              "      <td>1</td>\n",
              "      <td>0</td>\n",
              "      <td>PC 17599</td>\n",
              "      <td>71</td>\n",
              "      <td>C</td>\n",
              "      <td>ABCT</td>\n",
              "      <td>77</td>\n",
              "    </tr>\n",
              "    <tr>\n",
              "      <th>Heikkinen, Miss. Laina</th>\n",
              "      <td>3</td>\n",
              "      <td>1</td>\n",
              "      <td>3</td>\n",
              "      <td>female</td>\n",
              "      <td>26</td>\n",
              "      <td>0</td>\n",
              "      <td>0</td>\n",
              "      <td>STON/O2. 3101282</td>\n",
              "      <td>8</td>\n",
              "      <td>S</td>\n",
              "      <td>M</td>\n",
              "      <td>49</td>\n",
              "    </tr>\n",
              "    <tr>\n",
              "      <th>Futrelle, Mrs. Jacques Heath (Lily May Peel)</th>\n",
              "      <td>4</td>\n",
              "      <td>1</td>\n",
              "      <td>1</td>\n",
              "      <td>female</td>\n",
              "      <td>35</td>\n",
              "      <td>1</td>\n",
              "      <td>0</td>\n",
              "      <td>113803</td>\n",
              "      <td>53</td>\n",
              "      <td>S</td>\n",
              "      <td>ABCT</td>\n",
              "      <td>70</td>\n",
              "    </tr>\n",
              "    <tr>\n",
              "      <th>Allen, Mr. William Henry</th>\n",
              "      <td>5</td>\n",
              "      <td>0</td>\n",
              "      <td>3</td>\n",
              "      <td>male</td>\n",
              "      <td>35</td>\n",
              "      <td>0</td>\n",
              "      <td>0</td>\n",
              "      <td>373450</td>\n",
              "      <td>8</td>\n",
              "      <td>S</td>\n",
              "      <td>M</td>\n",
              "      <td>70</td>\n",
              "    </tr>\n",
              "  </tbody>\n",
              "</table>\n",
              "</div>\n",
              "      <button class=\"colab-df-convert\" onclick=\"convertToInteractive('df-6903b525-fb7d-45d4-8833-381493c79174')\"\n",
              "              title=\"Convert this dataframe to an interactive table.\"\n",
              "              style=\"display:none;\">\n",
              "        \n",
              "  <svg xmlns=\"http://www.w3.org/2000/svg\" height=\"24px\"viewBox=\"0 0 24 24\"\n",
              "       width=\"24px\">\n",
              "    <path d=\"M0 0h24v24H0V0z\" fill=\"none\"/>\n",
              "    <path d=\"M18.56 5.44l.94 2.06.94-2.06 2.06-.94-2.06-.94-.94-2.06-.94 2.06-2.06.94zm-11 1L8.5 8.5l.94-2.06 2.06-.94-2.06-.94L8.5 2.5l-.94 2.06-2.06.94zm10 10l.94 2.06.94-2.06 2.06-.94-2.06-.94-.94-2.06-.94 2.06-2.06.94z\"/><path d=\"M17.41 7.96l-1.37-1.37c-.4-.4-.92-.59-1.43-.59-.52 0-1.04.2-1.43.59L10.3 9.45l-7.72 7.72c-.78.78-.78 2.05 0 2.83L4 21.41c.39.39.9.59 1.41.59.51 0 1.02-.2 1.41-.59l7.78-7.78 2.81-2.81c.8-.78.8-2.07 0-2.86zM5.41 20L4 18.59l7.72-7.72 1.47 1.35L5.41 20z\"/>\n",
              "  </svg>\n",
              "      </button>\n",
              "      \n",
              "  <style>\n",
              "    .colab-df-container {\n",
              "      display:flex;\n",
              "      flex-wrap:wrap;\n",
              "      gap: 12px;\n",
              "    }\n",
              "\n",
              "    .colab-df-convert {\n",
              "      background-color: #E8F0FE;\n",
              "      border: none;\n",
              "      border-radius: 50%;\n",
              "      cursor: pointer;\n",
              "      display: none;\n",
              "      fill: #1967D2;\n",
              "      height: 32px;\n",
              "      padding: 0 0 0 0;\n",
              "      width: 32px;\n",
              "    }\n",
              "\n",
              "    .colab-df-convert:hover {\n",
              "      background-color: #E2EBFA;\n",
              "      box-shadow: 0px 1px 2px rgba(60, 64, 67, 0.3), 0px 1px 3px 1px rgba(60, 64, 67, 0.15);\n",
              "      fill: #174EA6;\n",
              "    }\n",
              "\n",
              "    [theme=dark] .colab-df-convert {\n",
              "      background-color: #3B4455;\n",
              "      fill: #D2E3FC;\n",
              "    }\n",
              "\n",
              "    [theme=dark] .colab-df-convert:hover {\n",
              "      background-color: #434B5C;\n",
              "      box-shadow: 0px 1px 3px 1px rgba(0, 0, 0, 0.15);\n",
              "      filter: drop-shadow(0px 1px 2px rgba(0, 0, 0, 0.3));\n",
              "      fill: #FFFFFF;\n",
              "    }\n",
              "  </style>\n",
              "\n",
              "      <script>\n",
              "        const buttonEl =\n",
              "          document.querySelector('#df-6903b525-fb7d-45d4-8833-381493c79174 button.colab-df-convert');\n",
              "        buttonEl.style.display =\n",
              "          google.colab.kernel.accessAllowed ? 'block' : 'none';\n",
              "\n",
              "        async function convertToInteractive(key) {\n",
              "          const element = document.querySelector('#df-6903b525-fb7d-45d4-8833-381493c79174');\n",
              "          const dataTable =\n",
              "            await google.colab.kernel.invokeFunction('convertToInteractive',\n",
              "                                                     [key], {});\n",
              "          if (!dataTable) return;\n",
              "\n",
              "          const docLinkHtml = 'Like what you see? Visit the ' +\n",
              "            '<a target=\"_blank\" href=https://colab.research.google.com/notebooks/data_table.ipynb>data table notebook</a>'\n",
              "            + ' to learn more about interactive tables.';\n",
              "          element.innerHTML = '';\n",
              "          dataTable['output_type'] = 'display_data';\n",
              "          await google.colab.output.renderOutput(dataTable, element);\n",
              "          const docLink = document.createElement('div');\n",
              "          docLink.innerHTML = docLinkHtml;\n",
              "          element.appendChild(docLink);\n",
              "        }\n",
              "      </script>\n",
              "    </div>\n",
              "  </div>\n",
              "  "
            ]
          },
          "metadata": {},
          "execution_count": 338
        }
      ]
    },
    {
      "cell_type": "markdown",
      "metadata": {
        "id": "xk7Sc4DCtPtL"
      },
      "source": [
        "12. Коррелируют ли число братьев/сестер с числом родителей/детей?"
      ]
    },
    {
      "cell_type": "code",
      "source": [
        "df['SibSp'].corr(df['Parch'])"
      ],
      "metadata": {
        "colab": {
          "base_uri": "https://localhost:8080/"
        },
        "id": "Tvt8dVUZXWKq",
        "outputId": "ba25ca4b-ae62-486f-98d4-4625183084a9"
      },
      "execution_count": null,
      "outputs": [
        {
          "output_type": "execute_result",
          "data": {
            "text/plain": [
              "0.41483769862015557"
            ]
          },
          "metadata": {},
          "execution_count": 339
        }
      ]
    },
    {
      "cell_type": "markdown",
      "source": [
        "SibSp and Parch features are positively correlated(moderate correlation) which are both indicative of the number of family members accompanying passenger"
      ],
      "metadata": {
        "id": "J5GWk4FUZiHV"
      }
    },
    {
      "cell_type": "markdown",
      "metadata": {
        "id": "s_77Ri3OtPtM"
      },
      "source": [
        "14. Есть ли зависимость между классом и номером билета?"
      ]
    },
    {
      "cell_type": "code",
      "source": [
        "df['Ticket_freq'] = df.groupby('Ticket')['Ticket'].transform('count')\n",
        "df['Pclass'].corr(df['Ticket_freq'])"
      ],
      "metadata": {
        "colab": {
          "base_uri": "https://localhost:8080/"
        },
        "id": "drIrwXz7a3DS",
        "outputId": "8b4dfbae-bdff-4968-8832-4efe44feabc7"
      },
      "execution_count": null,
      "outputs": [
        {
          "output_type": "execute_result",
          "data": {
            "text/plain": [
              "-0.002632886197776046"
            ]
          },
          "metadata": {},
          "execution_count": 347
        }
      ]
    },
    {
      "cell_type": "markdown",
      "source": [
        "Well that wasn't smart. I guess not."
      ],
      "metadata": {
        "id": "iUL5vS6BffjW"
      }
    },
    {
      "cell_type": "markdown",
      "metadata": {
        "id": "THKsS3RwtPtN"
      },
      "source": [
        "15. Какой части пассажиров удалось выжить?"
      ]
    },
    {
      "cell_type": "code",
      "source": [
        "df_per = df[df['Survived'] == 1].count().values[1] / df.shape[0] * 100\n",
        "print(f'The percentage of survived people: {int(df_per)}%.')"
      ],
      "metadata": {
        "colab": {
          "base_uri": "https://localhost:8080/"
        },
        "id": "GVCxKpuLfvKv",
        "outputId": "69b5e0fb-85e4-4ec4-f408-0b7ef820b923"
      },
      "execution_count": null,
      "outputs": [
        {
          "output_type": "stream",
          "name": "stdout",
          "text": [
            "The percentage of survived people: 38%.\n"
          ]
        }
      ]
    },
    {
      "cell_type": "markdown",
      "metadata": {
        "id": "V4DMirwQtPtO"
      },
      "source": [
        "16. Сделайте визуализацию, позволяющую ответить на вопросы:\n",
        "  * Верно ли, что женщины выживали чаще мужчин?\n"
      ]
    },
    {
      "cell_type": "markdown",
      "source": [
        "Yes, that's true."
      ],
      "metadata": {
        "id": "gU4CYg7Nx2Nu"
      }
    },
    {
      "cell_type": "code",
      "source": [
        "survival_rate = df.groupby(['Sex']).mean()[['Survived']]\n",
        "male_rate = survival_rate.loc['male']\n",
        "female_rate = survival_rate.loc['female']\n",
        "display(survival_rate)"
      ],
      "metadata": {
        "colab": {
          "base_uri": "https://localhost:8080/",
          "height": 143
        },
        "id": "mp-L077Vh6vc",
        "outputId": "55ded93d-2d8c-40fc-a8b1-e827260bafa5"
      },
      "execution_count": null,
      "outputs": [
        {
          "output_type": "display_data",
          "data": {
            "text/plain": [
              "        Survived\n",
              "Sex             \n",
              "female    0.74  \n",
              "male      0.19  "
            ],
            "text/html": [
              "\n",
              "  <div id=\"df-c0f56c63-88e4-4a38-b863-3fbe1976be49\">\n",
              "    <div class=\"colab-df-container\">\n",
              "      <div>\n",
              "<style scoped>\n",
              "    .dataframe tbody tr th:only-of-type {\n",
              "        vertical-align: middle;\n",
              "    }\n",
              "\n",
              "    .dataframe tbody tr th {\n",
              "        vertical-align: top;\n",
              "    }\n",
              "\n",
              "    .dataframe thead th {\n",
              "        text-align: right;\n",
              "    }\n",
              "</style>\n",
              "<table border=\"1\" class=\"dataframe\">\n",
              "  <thead>\n",
              "    <tr style=\"text-align: center;\">\n",
              "      <th></th>\n",
              "      <th>Survived</th>\n",
              "    </tr>\n",
              "    <tr>\n",
              "      <th>Sex</th>\n",
              "      <th></th>\n",
              "    </tr>\n",
              "  </thead>\n",
              "  <tbody>\n",
              "    <tr>\n",
              "      <th>female</th>\n",
              "      <td>0.74</td>\n",
              "    </tr>\n",
              "    <tr>\n",
              "      <th>male</th>\n",
              "      <td>0.19</td>\n",
              "    </tr>\n",
              "  </tbody>\n",
              "</table>\n",
              "</div>\n",
              "      <button class=\"colab-df-convert\" onclick=\"convertToInteractive('df-c0f56c63-88e4-4a38-b863-3fbe1976be49')\"\n",
              "              title=\"Convert this dataframe to an interactive table.\"\n",
              "              style=\"display:none;\">\n",
              "        \n",
              "  <svg xmlns=\"http://www.w3.org/2000/svg\" height=\"24px\"viewBox=\"0 0 24 24\"\n",
              "       width=\"24px\">\n",
              "    <path d=\"M0 0h24v24H0V0z\" fill=\"none\"/>\n",
              "    <path d=\"M18.56 5.44l.94 2.06.94-2.06 2.06-.94-2.06-.94-.94-2.06-.94 2.06-2.06.94zm-11 1L8.5 8.5l.94-2.06 2.06-.94-2.06-.94L8.5 2.5l-.94 2.06-2.06.94zm10 10l.94 2.06.94-2.06 2.06-.94-2.06-.94-.94-2.06-.94 2.06-2.06.94z\"/><path d=\"M17.41 7.96l-1.37-1.37c-.4-.4-.92-.59-1.43-.59-.52 0-1.04.2-1.43.59L10.3 9.45l-7.72 7.72c-.78.78-.78 2.05 0 2.83L4 21.41c.39.39.9.59 1.41.59.51 0 1.02-.2 1.41-.59l7.78-7.78 2.81-2.81c.8-.78.8-2.07 0-2.86zM5.41 20L4 18.59l7.72-7.72 1.47 1.35L5.41 20z\"/>\n",
              "  </svg>\n",
              "      </button>\n",
              "      \n",
              "  <style>\n",
              "    .colab-df-container {\n",
              "      display:flex;\n",
              "      flex-wrap:wrap;\n",
              "      gap: 12px;\n",
              "    }\n",
              "\n",
              "    .colab-df-convert {\n",
              "      background-color: #E8F0FE;\n",
              "      border: none;\n",
              "      border-radius: 50%;\n",
              "      cursor: pointer;\n",
              "      display: none;\n",
              "      fill: #1967D2;\n",
              "      height: 32px;\n",
              "      padding: 0 0 0 0;\n",
              "      width: 32px;\n",
              "    }\n",
              "\n",
              "    .colab-df-convert:hover {\n",
              "      background-color: #E2EBFA;\n",
              "      box-shadow: 0px 1px 2px rgba(60, 64, 67, 0.3), 0px 1px 3px 1px rgba(60, 64, 67, 0.15);\n",
              "      fill: #174EA6;\n",
              "    }\n",
              "\n",
              "    [theme=dark] .colab-df-convert {\n",
              "      background-color: #3B4455;\n",
              "      fill: #D2E3FC;\n",
              "    }\n",
              "\n",
              "    [theme=dark] .colab-df-convert:hover {\n",
              "      background-color: #434B5C;\n",
              "      box-shadow: 0px 1px 3px 1px rgba(0, 0, 0, 0.15);\n",
              "      filter: drop-shadow(0px 1px 2px rgba(0, 0, 0, 0.3));\n",
              "      fill: #FFFFFF;\n",
              "    }\n",
              "  </style>\n",
              "\n",
              "      <script>\n",
              "        const buttonEl =\n",
              "          document.querySelector('#df-c0f56c63-88e4-4a38-b863-3fbe1976be49 button.colab-df-convert');\n",
              "        buttonEl.style.display =\n",
              "          google.colab.kernel.accessAllowed ? 'block' : 'none';\n",
              "\n",
              "        async function convertToInteractive(key) {\n",
              "          const element = document.querySelector('#df-c0f56c63-88e4-4a38-b863-3fbe1976be49');\n",
              "          const dataTable =\n",
              "            await google.colab.kernel.invokeFunction('convertToInteractive',\n",
              "                                                     [key], {});\n",
              "          if (!dataTable) return;\n",
              "\n",
              "          const docLinkHtml = 'Like what you see? Visit the ' +\n",
              "            '<a target=\"_blank\" href=https://colab.research.google.com/notebooks/data_table.ipynb>data table notebook</a>'\n",
              "            + ' to learn more about interactive tables.';\n",
              "          element.innerHTML = '';\n",
              "          dataTable['output_type'] = 'display_data';\n",
              "          await google.colab.output.renderOutput(dataTable, element);\n",
              "          const docLink = document.createElement('div');\n",
              "          docLink.innerHTML = docLinkHtml;\n",
              "          element.appendChild(docLink);\n",
              "        }\n",
              "      </script>\n",
              "    </div>\n",
              "  </div>\n",
              "  "
            ]
          },
          "metadata": {}
        }
      ]
    },
    {
      "cell_type": "code",
      "source": [
        "male_pos = np.random.uniform(0, male_rate, len(df[(df['Sex']=='male') & (df['Survived']==1)]))\n",
        "male_neg = np.random.uniform(male_rate, 1, len(df[(df['Sex']=='male') & (df['Survived']==0)]))\n",
        "female_pos = np.random.uniform(0, female_rate, len(df[(df['Sex']=='female') & (df['Survived']==1)]))\n",
        "female_neg = np.random.uniform(female_rate, 1, len(df[(df['Sex']=='female') & (df['Survived']==0)]))\n",
        "\n",
        "fig, ax = plt.subplots(1, 1, figsize=(9, 7))\n",
        "np.random.seed(66)\n",
        "ax.scatter(np.random.uniform(-0.3, 0.3, len(male_pos)), male_pos, color='#FF00FF', edgecolor='lightgray', label='Male(Survived=1)')\n",
        "ax.scatter(np.random.uniform(-0.3, 0.3, len(male_neg)), male_neg, color='#FF00FF', edgecolor='lightgray', alpha=0.2, label='Male(Survived=0)')\n",
        "ax.scatter(1+np.random.uniform(-0.3, 0.3, len(female_pos)), female_pos, color='#00FFFF', edgecolor='lightgray', label='Female(Survived=1)')\n",
        "ax.scatter(1+np.random.uniform(-0.3, 0.3, len(female_neg)), female_neg, color='#00FFFF', edgecolor='lightgray', alpha=0.2, label='Female(Survived=0)')\n",
        "ax.set_xlim(-0.5, 2.0)\n",
        "ax.set_ylim(-0.03, 1.1)\n",
        "ax.set_xticks([0, 1])\n",
        "ax.set_xticklabels(['Male', 'Female'], fontweight='bold', fontfamily='serif', fontsize=13)\n",
        "ax.set_yticks([], minor=False)\n",
        "for s in [\"top\",\"right\",\"left\", 'bottom']: #I'm trully sorry\n",
        "    ax.spines[s].set_visible(False)\n",
        "\n",
        "fig.text(0.1, 1, 'Distribution of Survivors by Gender', fontweight='bold', fontfamily='serif', fontsize=15)    \n",
        "fig.text(0.1, 0.96, 'As is known, the survival rate for female is high, with 19% of male and 74% of female.', fontweight='light', fontfamily='serif', fontsize=12)    \n",
        "\n",
        "ax.legend(loc=(0.8, 0.5), edgecolor='None')\n",
        "plt.tight_layout()\n",
        "plt.show()"
      ],
      "metadata": {
        "colab": {
          "base_uri": "https://localhost:8080/",
          "height": 535
        },
        "id": "imkY-nJ9-zZV",
        "outputId": "0e6976cc-ada8-4a20-e1f3-b099386b67f0"
      },
      "execution_count": null,
      "outputs": [
        {
          "output_type": "display_data",
          "data": {
            "text/plain": [
              "<Figure size 648x504 with 1 Axes>"
            ],
            "image/png": "[encoded data removed]"
          },
          "metadata": {}
        }
      ]
    },
    {
      "cell_type": "markdown",
      "metadata": {
        "pycharm": {
          "name": "#%% md\n"
        },
        "id": "BAwJr4E9tPtO"
      },
      "source": [
        "  * Верно ли, что чаще выживали пассажиры с более дорогими билетами?"
      ]
    },
    {
      "cell_type": "code",
      "source": [
        "survivor_count = df['Survived'].sum()\n",
        "def get_survival_rate(df, col):\n",
        "    by_col = df.groupby(col)\n",
        "    count_by_col = by_col['Survived'].sum()\n",
        "    survival_rate = count_by_col / survivor_count * 100\n",
        "    print('Survival rates:', survival_rate, '\\n \\n', 'Counts: ', count_by_col)\n",
        "    return survival_rate, count_by_col\n",
        "def class_count(df, num):\n",
        "  num_class_count = (df['Pclass'] == num).sum()\n",
        "  num_class = num_class_count / df.shape[0] * 100\n",
        "  return round(num_class, 2), num_class_count\n",
        "\n",
        "first_class, second_class, third_class = class_count(df, 1), class_count(df, 2), class_count(df, 3)\n",
        "\n",
        "print('First class percentage = ', first_class[0], ' | Count: ', first_class[1])\n",
        "print('Second class percentage = ', second_class[0], ' | Count: ', second_class[1])\n",
        "print('Third class percentage = ', third_class[0], ' | Count: ', third_class[1])"
      ],
      "metadata": {
        "colab": {
          "base_uri": "https://localhost:8080/"
        },
        "id": "kEvAzGXjoL1H",
        "outputId": "e2da6cb2-c65d-49ee-81c0-026278f63a6d"
      },
      "execution_count": null,
      "outputs": [
        {
          "output_type": "stream",
          "name": "stdout",
          "text": [
            "First class percentage =  24.24  | Count:  216\n",
            "Second class percentage =  20.65  | Count:  184\n",
            "Third class percentage =  55.11  | Count:  491\n"
          ]
        }
      ]
    },
    {
      "cell_type": "markdown",
      "source": [
        "We see that:\n",
        "\n",
        "\n",
        "\n",
        "*   the first class represents about a quarter of the passengers on board (≈ 24%)\n",
        "*   the second class represents a little less than a quarter of the passengers on board (≈ 20%)\n",
        "*   the third class represents more than half of the passengers onboard (≈ 55%)\n",
        "\n",
        "Let's now compare these percentages with the survival ones."
      ],
      "metadata": {
        "id": "NZjci_vCw4hC"
      }
    },
    {
      "cell_type": "code",
      "source": [
        "get_survival_rate(df, 'Pclass')"
      ],
      "metadata": {
        "colab": {
          "base_uri": "https://localhost:8080/"
        },
        "id": "PoIYwsJ9pknO",
        "outputId": "0c2528de-282d-434c-8a29-a6649cba7bf8"
      },
      "execution_count": null,
      "outputs": [
        {
          "output_type": "stream",
          "name": "stdout",
          "text": [
            "Survival rates: Pclass\n",
            "1   39.77\n",
            "2   25.44\n",
            "3   34.80\n",
            "Name: Survived, dtype: float64 \n",
            " \n",
            " Counts:  Pclass\n",
            "1    136\n",
            "2     87\n",
            "3    119\n",
            "Name: Survived, dtype: int64\n"
          ]
        },
        {
          "output_type": "execute_result",
          "data": {
            "text/plain": [
              "(Pclass\n",
              " 1   39.77\n",
              " 2   25.44\n",
              " 3   34.80\n",
              " Name: Survived, dtype: float64, Pclass\n",
              " 1    136\n",
              " 2     87\n",
              " 3    119\n",
              " Name: Survived, dtype: int64)"
            ]
          },
          "metadata": {},
          "execution_count": 430
        }
      ]
    },
    {
      "cell_type": "markdown",
      "source": [
        "With these survival rates, we can see that:\n",
        "\n",
        "*   The first class represents ≈ 24% of the passengers, but ≈ 40% of the survivors\n",
        "*   The second class represents ≈ 20% of the passengers, but ≈ 25% of the survivors\n",
        "*   The third class representes ≈ 55% of the passengers, but ≈ 34% of the survivors\n",
        "\n",
        "Let's visualize these results to get a better understanding."
      ],
      "metadata": {
        "id": "_nEoS8flxZeA"
      }
    },
    {
      "cell_type": "code",
      "source": [
        "def get_counts(df, col, num, status):\n",
        "    target = df[col].where(df[col] == num)\n",
        "    class_count = target.where(df['Survived'] == status).count()\n",
        "    return class_count\n",
        "def gen_plot(survival_array, death_array, by_factor, x_ticks):\n",
        "    abs_survival_list = np.array(survival_array)\n",
        "    abs_death_list = np.array(death_array)\n",
        "    N = len(abs_survival_list)\n",
        "    ind = np.arange(N)\n",
        "    width = 1 / N\n",
        "\n",
        "    f, (ax1, ax2) = plt.subplots(1, 2, figsize=(14, 7))\n",
        "    ax1.bar(ind, abs_survival_list, width, color='#00FFFF', label='Survival', alpha=0.8)\n",
        "    ax1.bar(ind, abs_death_list, width, color='#FF00FF', label='Death', alpha=0.8, bottom=abs_survival_list)\n",
        "    plt.sca(ax1)\n",
        "    plt.xticks(ind, x_ticks)\n",
        "    ax1.set_title('Absolute count ' + by_factor)\n",
        "    ax1.set_ylabel('Count')\n",
        "    ax1.legend(loc='upper left')\n",
        "    plt.setp(plt.gca().get_xticklabels(), rotation=45)\n",
        "\n",
        "    per_survival_list = (abs_survival_list / (abs_survival_list + abs_death_list)) * 100\n",
        "    per_death_list = (abs_death_list / (abs_survival_list + abs_death_list)) * 100\n",
        "\n",
        "    ax2.bar(ind, per_survival_list, width, color='#00FFFF', label='Survival percentage', alpha=0.8)\n",
        "    ax2.bar(ind, per_death_list, width, color='#FF00FF', label='Death percentage', alpha=0.8, bottom=per_survival_list)\n",
        "    plt.sca(ax2)\n",
        "    plt.xticks(ind, x_ticks)\n",
        "    ax2.set_title('Percentage ' + by_factor)\n",
        "    ax2.set_ylabel('Percentage')\n",
        "    plt.setp(plt.gca().get_xticklabels(), rotation=45)\n",
        "\n",
        "    return plt.show()\n",
        "    \n",
        "class1_survival_count = get_counts(df, 'Pclass', 1, 1)\n",
        "class2_survival_count = get_counts(df, 'Pclass', 2, 1)\n",
        "class3_survival_count = get_counts(df, 'Pclass', 3, 1)\n",
        "class1_death_count = get_counts(df, 'Pclass', 1, 0)\n",
        "class2_death_count = get_counts(df, 'Pclass', 2, 0)\n",
        "class3_death_count = get_counts(df, 'Pclass', 3, 0)"
      ],
      "metadata": {
        "id": "VDwoTu731wDn"
      },
      "execution_count": null,
      "outputs": []
    },
    {
      "cell_type": "code",
      "source": [
        "gen_plot([class1_survival_count, class2_survival_count, class3_survival_count],\n",
        "         [class1_death_count, class2_death_count, class3_death_count],\n",
        "         'by ticket class',\n",
        "         ['First class', 'Second class', 'Third class'])"
      ],
      "metadata": {
        "colab": {
          "base_uri": "https://localhost:8080/",
          "height": 456
        },
        "id": "_DnZtIXL8wnp",
        "outputId": "042f1826-3f48-452a-e48f-4a54dc77455c"
      },
      "execution_count": null,
      "outputs": [
        {
          "output_type": "display_data",
          "data": {
            "text/plain": [
              "<Figure size 1008x504 with 2 Axes>"
            ],
            "image/png": "[encoded data removed]"
          },
          "metadata": {}
        }
      ]
    },
    {
      "cell_type": "markdown",
      "source": [
        "We can see that there is a clear correlation between death and ticket class: the higher your ticket class, the higher your chances of survival."
      ],
      "metadata": {
        "id": "-aMtHcj-BHS-"
      }
    }
  ],
  "metadata": {
    "anaconda-cloud": {},
    "kernelspec": {
      "display_name": "Python 3",
      "language": "python",
      "name": "python3"
    },
    "language_info": {
      "codemirror_mode": {
        "name": "ipython",
        "version": 3
      },
      "file_extension": ".py",
      "mimetype": "text/x-python",
      "name": "python",
      "nbconvert_exporter": "python",
      "pygments_lexer": "ipython3",
      "version": "3.7.4"
    },
    "colab": {
      "name": "task_2_pandas.ipynb",
      "provenance": [],
      "collapsed_sections": []
    }
  },
  "nbformat": 4,
  "nbformat_minor": 0
}