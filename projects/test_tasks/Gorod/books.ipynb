{
  "cells": [
    {
      "cell_type": "markdown",
      "metadata": {
        "id": "view-in-github",
        "colab_type": "text"
      },
      "source": [
        "<a href=\"https://colab.research.google.com/github/fishenzone/Projects/blob/main/projects/test_tasks/Gorod/books.ipynb\" target=\"_parent\"><img src=\"https://colab.research.google.com/assets/colab-badge.svg\" alt=\"Open In Colab\"/></a>"
      ]
    },
    {
      "cell_type": "markdown",
      "source": [
        "# Import libraries"
      ],
      "metadata": {
        "id": "ub6FQnqJp17F"
      }
    },
    {
      "cell_type": "code",
      "source": [
        "import pandas as pd\n",
        "import numpy as np\n",
        "from scipy.stats import ttest_ind\n",
        "import warnings\n",
        "warnings.filterwarnings('ignore')\n",
        "# from IPython.core.interactiveshell import InteractiveShell\n",
        "# InteractiveShell.ast_node_interactivity = \"all\""
      ],
      "metadata": {
        "id": "kthRlFUfkM1e"
      },
      "execution_count": null,
      "outputs": []
    },
    {
      "cell_type": "markdown",
      "source": [
        "# Тестовое задание: \n",
        "\n",
        "По данным подтвердить или опровергнуть гипотезу об уменьшении чека в отчетном периоде (апрель 2019), в сравнении с предыдущим месяцем (март 2019). \n",
        "Сделать выводы. \n",
        "\n",
        "sample 1 - оформленные заказы\n",
        "sample 2 - состав оформленных заказов \n",
        "\n",
        "Date_order - дата заказа\n",
        "Order_id - номер заказа \n",
        "User_id - клиент\n",
        "Price - стоимость заказа \n",
        "Price_delivery - стоимость доставки\n",
        "Bonus - оплата баллами\n",
        "Discount_price - скидка на товар \n",
        "Product_id - товар \n",
        "Quantity - количество товара "
      ],
      "metadata": {
        "id": "PO4G-qC7Or-o"
      }
    },
    {
      "cell_type": "code",
      "source": [
        "def read(url):\n",
        "  url='https://drive.google.com/uc?id=' + url.split('/')[-2]\n",
        "  df = pd.read_csv(url, sep=';', encoding='latin1', index_col=0)\n",
        "  return df"
      ],
      "metadata": {
        "id": "1m83avZL0xho"
      },
      "execution_count": null,
      "outputs": []
    },
    {
      "cell_type": "code",
      "source": [
        "sample1 = read('https://drive.google.com/file/d/10RI4uq3lQbygjsAIp3vDCBOBx-lZpY7h/view?usp=share_link')\n",
        "sample2 = read('https://drive.google.com/file/d/1UyMbXMFCsPTQFfH2WybrILa2fLpPypxD/view?usp=share_link')\n",
        "sample1.rename(columns={sample1.columns[0]: 'date_order'}, inplace=True)"
      ],
      "metadata": {
        "id": "iav7ssVmPG4-"
      },
      "execution_count": null,
      "outputs": []
    },
    {
      "cell_type": "code",
      "source": [
        "def convert(df, col1, col2):\n",
        "  mask = pd.to_numeric(df[col1], errors='coerce').isna() | pd.to_numeric(df[col2], errors='coerce').isna()\n",
        "  df = df[~mask]\n",
        "  df[[col1, col2]] = df[[col1, col2]].astype('float64')\n",
        "  return df"
      ],
      "metadata": {
        "id": "i86Wn0zsVc5N"
      },
      "execution_count": null,
      "outputs": []
    },
    {
      "cell_type": "code",
      "source": [
        "merged_df = pd.merge(sample1, sample2, on='order_id')\n",
        "merged_df['order_month'] = pd.to_datetime(merged_df['date_order'], format='%d.%m.%Y').dt.month\n",
        "\n",
        "filtered_df = merged_df[(merged_df['order_month'] == 3) | (merged_df['order_month'] == 4)]\n",
        "filtered_df = convert(filtered_df, 'bonus', 'discount_price')\n",
        "filtered_df['total_order_value'] = filtered_df['price_x'] + filtered_df['price_delivery'] - filtered_df['bonus'] - filtered_df['discount_price']\n",
        "\n",
        "march_avg = filtered_df[filtered_df['order_month'] == 3]['total_order_value'].mean()\n",
        "april_avg = filtered_df[filtered_df['order_month'] == 4]['total_order_value'].mean()\n",
        "\n",
        "pvalue = ttest_ind(filtered_df[filtered_df['order_month'] == 3]['total_order_value'], filtered_df[filtered_df['order_month'] == 4]['total_order_value']).pvalue\n",
        "\n",
        "if pvalue < 0.05:\n",
        "    print(f\"The average order value in April 2019 is significantly different from March 2019 (p-value = {pvalue:.3f})\")\n",
        "else:\n",
        "    print(f\"The average order value in April 2019 is not significantly different from March 2019 (p-value = {pvalue:.3f})\")\n"
      ],
      "metadata": {
        "colab": {
          "base_uri": "https://localhost:8080/"
        },
        "id": "DpUih5CnPG9G",
        "outputId": "9e1c7ca3-02bd-4c8b-ab8c-f80d2f9aa5bb"
      },
      "execution_count": null,
      "outputs": [
        {
          "output_type": "stream",
          "name": "stdout",
          "text": [
            "The average order value in April 2019 is significantly different from March 2019 (p-value = 0.000)\n"
          ]
        }
      ]
    }
  ],
  "metadata": {
    "colab": {
      "provenance": [],
      "collapsed_sections": [
        "ub6FQnqJp17F"
      ],
      "authorship_tag": "ABX9TyP11bEoQb3B/0xpNTEl7WVB",
      "include_colab_link": true
    },
    "kernelspec": {
      "display_name": "Python 3",
      "name": "python3"
    },
    "language_info": {
      "name": "python"
    }
  },
  "nbformat": 4,
  "nbformat_minor": 0
}