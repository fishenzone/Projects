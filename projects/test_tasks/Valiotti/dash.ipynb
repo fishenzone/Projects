{
  "cells": [
    {
      "cell_type": "markdown",
      "metadata": {
        "id": "view-in-github",
        "colab_type": "text"
      },
      "source": [
        "<a href=\"https://colab.research.google.com/github/fishenzone/Projects/blob/main/projects/test_tasks/Valiotti/dash.ipynb\" target=\"_parent\"><img src=\"https://colab.research.google.com/assets/colab-badge.svg\" alt=\"Open In Colab\"/></a>"
      ]
    },
    {
      "cell_type": "code",
      "source": [
        "from google.colab import drive\n",
        "drive.mount('/content/drive')"
      ],
      "metadata": {
        "id": "HCPn7GiyzkU4",
        "colab": {
          "base_uri": "https://localhost:8080/"
        },
        "outputId": "e29fb10d-e8c1-455d-8eea-1be8e9d2d76c"
      },
      "execution_count": null,
      "outputs": [
        {
          "output_type": "stream",
          "name": "stdout",
          "text": [
            "Mounted at /content/drive\n"
          ]
        }
      ]
    },
    {
      "cell_type": "code",
      "source": [
        "!pip install dash plotly pyngrok ngrok"
      ],
      "metadata": {
        "id": "vXPb6ZYe0AjD"
      },
      "execution_count": null,
      "outputs": []
    },
    {
      "cell_type": "code",
      "source": [
        "import dash\n",
        "import dash_core_components as dcc\n",
        "import dash_html_components as html\n",
        "from dash.dependencies import Input, Output\n",
        "import plotly.express as px\n",
        "import pandas as pd\n",
        "from pyngrok import ngrok"
      ],
      "metadata": {
        "id": "kthRlFUfkM1e"
      },
      "execution_count": null,
      "outputs": []
    },
    {
      "cell_type": "code",
      "source": [
        "def read_url(url):\n",
        "  url='https://drive.google.com/uc?id=' + url.split('/')[-2]\n",
        "  df = pd.read_csv(url)\n",
        "  return df\n",
        "\n",
        "def clean_df(df, col):\n",
        "  df.dropna(inplace=True)\n",
        "  df = df[(df != 'tbd').all(axis=1)]\n",
        "  df = df[df[col] >= 2000]\n",
        "  return df\n",
        "\n",
        "def change_type(df, col1, col2):\n",
        "  df[col1] = df[col1].astype(int)\n",
        "  df[col2] = df[col2].astype(int)\n",
        "  return df"
      ],
      "metadata": {
        "id": "1m83avZL0xho"
      },
      "execution_count": null,
      "outputs": []
    },
    {
      "cell_type": "code",
      "source": [
        "game_df = read_url('https://drive.google.com/file/d/1QXvqgwjo_PJixFRcapKhjyca_Cd-58pr/view?usp=sharing')\n",
        "game_df = clean_df(game_df, 'Year_of_Release')\n",
        "game_df = change_type(game_df, 'Year_of_Release', 'Critic_Score')\n",
        "df = game_df"
      ],
      "metadata": {
        "id": "e0XDLYvO967j"
      },
      "execution_count": null,
      "outputs": []
    },
    {
      "cell_type": "code",
      "source": [
        "from pyngrok import ngrok\n",
        "\n",
        "public_url = ngrok.connect(port=8050)\n",
        "\n",
        "print(f\"Dash app running on {public_url}\")\n",
        "\n",
        "\n",
        "app = dash.Dash(__name__)\n",
        "\n",
        "genre_options = [{'label': i, 'value': i} for i in df['Genre'].unique()]\n",
        "rating_options = [{'label': i, 'value': i} for i in df['Rating'].unique()]\n",
        "\n",
        "app.layout = html.Div([\n",
        "    html.H1('Games Dashboard'),\n",
        "    dcc.Dropdown(\n",
        "        id='genre-filter',\n",
        "        options=genre_options,\n",
        "        value=[],\n",
        "        multi=True,\n",
        "        placeholder='Select Genre(s)'\n",
        "    ),\n",
        "    dcc.Dropdown(\n",
        "        id='rating-filter',\n",
        "        options=rating_options,\n",
        "        value=[],\n",
        "        multi=True,\n",
        "        placeholder='Select Rating(s)'\n",
        "    ),\n",
        "    dcc.RangeSlider(\n",
        "        id='year-slider',\n",
        "        min=df['Year_of_Release'].min(),\n",
        "        max=df['Year_of_Release'].max(),\n",
        "        value=[df['Year_of_Release'].min(), df['Year_of_Release'].max()],\n",
        "        marks={str(year): str(year) for year in range(df['Year_of_Release'].min(), df['Year_of_Release'].max()+1)},\n",
        "    ),\n",
        "    html.H3(id='game-count'),\n",
        "    dcc.Graph(id='area-plot'),\n",
        "    dcc.Graph(id='scatter-plot')\n",
        "])\n",
        "\n",
        "@app.callback(\n",
        "    [Output('game-count', 'children'),\n",
        "     Output('area-plot', 'figure'),\n",
        "     Output('scatter-plot', 'figure')],\n",
        "    [Input('genre-filter', 'value'),\n",
        "     Input('rating-filter', 'value'),\n",
        "     Input('year-slider', 'value')]\n",
        ")\n",
        "def update_dashboard(genres, ratings, years):\n",
        "    dff = df[(df['Genre'].isin(genres)) & (df['Rating'].isin(ratings)) & (df['Year_of_Release'] >= years[0]) & (df['Year_of_Release'] <= years[1])]\n",
        "    \n",
        "    game_count = f\"Number of Selected Games: {len(dff)}\"\n",
        "    \n",
        "    area_plot = px.area(dff, x=\"Year_of_Release\", y=\"Name\", color=\"Platform\")\n",
        "    \n",
        "    scatter_plot = px.scatter(dff, x=\"User_Score\", y=\"Critic_Score\", color=\"Genre\")\n",
        "    \n",
        "    return game_count, area_plot, scatter_plot\n",
        "\n",
        "if __name__ == '__main__':\n",
        "    app.run_server(port=8050)"
      ],
      "metadata": {
        "id": "8N0Ao8kUpc1W"
      },
      "execution_count": null,
      "outputs": []
    }
  ],
  "metadata": {
    "colab": {
      "provenance": [],
      "authorship_tag": "ABX9TyN33pD3QS8FcYOU23aLkLwq",
      "include_colab_link": true
    },
    "kernelspec": {
      "display_name": "Python 3",
      "name": "python3"
    },
    "language_info": {
      "name": "python"
    }
  },
  "nbformat": 4,
  "nbformat_minor": 0
}