{
  "cells": [
    {
      "cell_type": "markdown",
      "metadata": {
        "id": "view-in-github",
        "colab_type": "text"
      },
      "source": [
        "<a href=\"https://colab.research.google.com/github/fishenzone/portfolio/blob/main/projects/fcc_sms_text_classification.ipynb\" target=\"_parent\"><img src=\"https://colab.research.google.com/assets/colab-badge.svg\" alt=\"Open In Colab\"/></a>"
      ]
    },
    {
      "cell_type": "markdown",
      "metadata": {
        "id": "Eg62Pmz3o83v"
      },
      "source": [
        "\n",
        "\n",
        "In this challenge, you need to create a machine learning model that will classify SMS messages as either \"ham\" or \"spam\". A \"ham\" message is a normal message sent by a friend. A \"spam\" message is an advertisement or a message sent by a company.\n",
        "\n",
        "You should create a function called `predict_message` that takes a message string as an argument and returns a list. The first element in the list should be a number between zero and one that indicates the likeliness of \"ham\" (0) or \"spam\" (1). The second element in the list should be the word \"ham\" or \"spam\", depending on which is most likely.\n",
        "\n",
        "For this challenge, you will use the [SMS Spam Collection dataset](http://www.dt.fee.unicamp.br/~tiago/smsspamcollection/). The dataset has already been grouped into train data and test data.\n",
        "\n",
        "The first two cells import the libraries and data. The final cell tests your model and function. Add your code in between these cells.\n"
      ]
    },
    {
      "cell_type": "code",
      "execution_count": null,
      "metadata": {
        "id": "8RZOuS9LWQvv",
        "colab": {
          "base_uri": "https://localhost:8080/"
        },
        "outputId": "606718f6-4d4b-4172-c085-91579c27c738"
      },
      "outputs": [
        {
          "output_type": "stream",
          "name": "stdout",
          "text": [
            "--2022-04-30 20:11:24--  https://cdn.freecodecamp.org/project-data/sms/train-data.tsv\n",
            "Resolving cdn.freecodecamp.org (cdn.freecodecamp.org)... 104.26.3.33, 104.26.2.33, 172.67.70.149, ...\n",
            "Connecting to cdn.freecodecamp.org (cdn.freecodecamp.org)|104.26.3.33|:443... connected.\n",
            "HTTP request sent, awaiting response... 200 OK\n",
            "Length: 358233 (350K) [text/tab-separated-values]\n",
            "Saving to: ‘train-data.tsv’\n",
            "\n",
            "train-data.tsv      100%[===================>] 349.84K   782KB/s    in 0.4s    \n",
            "\n",
            "2022-04-30 20:11:25 (782 KB/s) - ‘train-data.tsv’ saved [358233/358233]\n",
            "\n",
            "--2022-04-30 20:11:25--  https://cdn.freecodecamp.org/project-data/sms/valid-data.tsv\n",
            "Resolving cdn.freecodecamp.org (cdn.freecodecamp.org)... 104.26.3.33, 104.26.2.33, 172.67.70.149, ...\n",
            "Connecting to cdn.freecodecamp.org (cdn.freecodecamp.org)|104.26.3.33|:443... connected.\n",
            "HTTP request sent, awaiting response... 200 OK\n",
            "Length: 118774 (116K) [text/tab-separated-values]\n",
            "Saving to: ‘valid-data.tsv’\n",
            "\n",
            "valid-data.tsv      100%[===================>] 115.99K   513KB/s    in 0.2s    \n",
            "\n",
            "2022-04-30 20:11:27 (513 KB/s) - ‘valid-data.tsv’ saved [118774/118774]\n",
            "\n"
          ]
        }
      ],
      "source": [
        "# !pip install tensorflow-datasets\n",
        "import pandas as pd\n",
        "import numpy as np\n",
        "import matplotlib.pyplot as plt\n",
        "import tensorflow as tf\n",
        "import tensorflow_datasets as tfds\n",
        "from tensorflow import keras\n",
        "from keras.preprocessing import sequence\n",
        "\n",
        "# !wget https://cdn.freecodecamp.org/project-data/sms/train-data.tsv\n",
        "# !wget https://cdn.freecodecamp.org/project-data/sms/valid-data.tsv"
      ]
    },
    {
      "cell_type": "code",
      "execution_count": null,
      "metadata": {
        "id": "g_h508FEClxO",
        "colab": {
          "base_uri": "https://localhost:8080/"
        },
        "outputId": "5e49d4b8-bbbd-481c-fcc7-52cb86a59fbe"
      },
      "outputs": [
        {
          "output_type": "stream",
          "name": "stdout",
          "text": [
            "TRAIN DATA \n",
            "      label                                               text\n",
            "4174   ham  just woke up. yeesh its late. but i didn't fal...\n",
            "4175   ham  what do u reckon as need 2 arrange transport i...\n",
            "4176  spam  free entry into our £250 weekly competition ju...\n",
            "4177  spam  -pls stop bootydelious (32/f) is inviting you ...\n",
            "4178   ham  tell my  bad character which u dnt lik in me. ... \n",
            "\n",
            " VALID DATA \n",
            "      label                                               text\n",
            "1387   ham  true dear..i sat to pray evening and felt so.s...\n",
            "1388   ham               what will we do in the shower, baby?\n",
            "1389   ham  where are you ? what are you doing ? are yuou ...\n",
            "1390  spam  ur cash-balance is currently 500 pounds - to m...\n",
            "1391  spam  not heard from u4 a while. call 4 rude chat pr... \n",
            "\n",
            " TRAIN DATA SUMMARY\n",
            "<class 'pandas.core.frame.DataFrame'>\n",
            "RangeIndex: 4179 entries, 0 to 4178\n",
            "Data columns (total 2 columns):\n",
            " #   Column  Non-Null Count  Dtype \n",
            "---  ------  --------------  ----- \n",
            " 0   label   4179 non-null   object\n",
            " 1   text    4179 non-null   object\n",
            "dtypes: object(2)\n",
            "memory usage: 65.4+ KB\n",
            "None \n",
            "\n",
            " TRAIN DATA SUM of NULL\n",
            "label    0\n",
            "text     0\n",
            "dtype: int64 \n",
            "\n",
            " VALID DATA SUMMARY\n",
            "<class 'pandas.core.frame.DataFrame'>\n",
            "RangeIndex: 1392 entries, 0 to 1391\n",
            "Data columns (total 2 columns):\n",
            " #   Column  Non-Null Count  Dtype \n",
            "---  ------  --------------  ----- \n",
            " 0   label   1392 non-null   object\n",
            " 1   text    1392 non-null   object\n",
            "dtypes: object(2)\n",
            "memory usage: 21.9+ KB\n",
            "None \n",
            "\n",
            " TEST DATA SUM of NULL\n",
            "label    0\n",
            "text     0\n",
            "dtype: int64\n"
          ]
        }
      ],
      "source": [
        "def reader_data(file_name):\n",
        "  data = pd.read_csv(\n",
        "      file_name, \n",
        "      sep='\\t', \n",
        "      header=None,\n",
        "      names=['label', 'text'])\n",
        "  return data\n",
        "\n",
        "train_data = reader_data('train-data.tsv')\n",
        "valid_data = reader_data('valid-data.tsv')\n",
        "\n",
        "print(f'TRAIN DATA \\n {train_data.tail()} \\n\\n VALID DATA \\n {valid_data.tail()} \\n\\n TRAIN DATA SUMMARY')\n",
        "\n",
        "print(train_data.info(), '\\n\\n TRAIN DATA SUM of NULL')\n",
        "print(train_data.isnull().sum(), '\\n\\n VALID DATA SUMMARY')\n",
        "print(valid_data.info(), '\\n\\n TEST DATA SUM of NULL')\n",
        "print(valid_data.isnull().sum())"
      ]
    },
    {
      "cell_type": "code",
      "source": [
        "def preprocess(data):\n",
        "  X = np.array(data.iloc[:,1])\n",
        "  y = data.iloc[:,0].astype('category').cat.codes\n",
        "  return X, y\n",
        "\n",
        "X_train, y_train = preprocess(train_data)\n",
        "X_valid, y_valid = preprocess(valid_data)\n",
        "encoder = keras.layers.TextVectorization()\n",
        "encoder.adapt(X_train)"
      ],
      "metadata": {
        "id": "60v2ShLQxDtv"
      },
      "execution_count": null,
      "outputs": []
    },
    {
      "cell_type": "code",
      "source": [
        "model = tf.keras.Sequential([\n",
        "    encoder,\n",
        "    tf.keras.layers.Embedding(\n",
        "        input_dim=len(encoder.get_vocabulary()),\n",
        "        output_dim=64,\n",
        "        mask_zero=True),\n",
        "    tf.keras.layers.Bidirectional(tf.keras.layers.LSTM(64)),\n",
        "    tf.keras.layers.Dense(64, activation='relu'),\n",
        "    tf.keras.layers.Dense(128, activation='relu'),\n",
        "    tf.keras.layers.Dense(1, activation='sigmoid')\n",
        "])\n",
        "\n",
        "callbacks = [\n",
        "    tf.keras.callbacks.ReduceLROnPlateau(monitor='loss', factor=0.1, patience=3), \n",
        "    tf.keras.callbacks.EarlyStopping(monitor='val_loss', min_delta=0.001, patience=5)\n",
        "]\n",
        "\n",
        "model.compile(optimizer='adam', metrics=['accuracy'], loss='binary_crossentropy')\n",
        "model.summary()"
      ],
      "metadata": {
        "colab": {
          "base_uri": "https://localhost:8080/"
        },
        "id": "_8hXwK2j8Bnc",
        "outputId": "9883186e-0330-4588-a788-118ebe602fcc"
      },
      "execution_count": null,
      "outputs": [
        {
          "output_type": "stream",
          "name": "stdout",
          "text": [
            "Model: \"sequential\"\n",
            "_________________________________________________________________\n",
            " Layer (type)                Output Shape              Param #   \n",
            "=================================================================\n",
            " text_vectorization (TextVec  (None, None)             0         \n",
            " torization)                                                     \n",
            "                                                                 \n",
            " embedding (Embedding)       (None, None, 64)          523584    \n",
            "                                                                 \n",
            " bidirectional (Bidirectiona  (None, 128)              66048     \n",
            " l)                                                              \n",
            "                                                                 \n",
            " dense (Dense)               (None, 64)                8256      \n",
            "                                                                 \n",
            " dense_1 (Dense)             (None, 128)               8320      \n",
            "                                                                 \n",
            " dense_2 (Dense)             (None, 1)                 129       \n",
            "                                                                 \n",
            "=================================================================\n",
            "Total params: 606,337\n",
            "Trainable params: 606,337\n",
            "Non-trainable params: 0\n",
            "_________________________________________________________________\n"
          ]
        }
      ]
    },
    {
      "cell_type": "code",
      "source": [
        "history = model.fit(\n",
        "    x = X_train,\n",
        "    y = y_train, \n",
        "    epochs=50,\n",
        "    validation_data = (X_valid, y_valid),\n",
        "    callbacks = callbacks\n",
        ")"
      ],
      "metadata": {
        "colab": {
          "base_uri": "https://localhost:8080/"
        },
        "id": "zorUb0628Gr0",
        "outputId": "a0a81808-b3cd-4bf9-f04e-e8bd7278e230"
      },
      "execution_count": null,
      "outputs": [
        {
          "output_type": "stream",
          "name": "stdout",
          "text": [
            "Epoch 1/50\n",
            "131/131 [==============================] - 23s 66ms/step - loss: 0.2125 - accuracy: 0.9289 - val_loss: 0.0434 - val_accuracy: 0.9849 - lr: 0.0010\n",
            "Epoch 2/50\n",
            "131/131 [==============================] - 6s 42ms/step - loss: 0.0189 - accuracy: 0.9952 - val_loss: 0.0529 - val_accuracy: 0.9820 - lr: 0.0010\n",
            "Epoch 3/50\n",
            "131/131 [==============================] - 6s 44ms/step - loss: 0.0103 - accuracy: 0.9964 - val_loss: 0.0354 - val_accuracy: 0.9899 - lr: 0.0010\n",
            "Epoch 4/50\n",
            "131/131 [==============================] - 6s 43ms/step - loss: 0.0010 - accuracy: 0.9998 - val_loss: 0.0429 - val_accuracy: 0.9871 - lr: 0.0010\n",
            "Epoch 5/50\n",
            "131/131 [==============================] - 5s 40ms/step - loss: 2.7992e-04 - accuracy: 1.0000 - val_loss: 0.0438 - val_accuracy: 0.9885 - lr: 0.0010\n",
            "Epoch 6/50\n",
            "131/131 [==============================] - 6s 44ms/step - loss: 1.8888e-04 - accuracy: 1.0000 - val_loss: 0.0455 - val_accuracy: 0.9885 - lr: 0.0010\n",
            "Epoch 7/50\n",
            "131/131 [==============================] - 6s 45ms/step - loss: 1.4530e-04 - accuracy: 1.0000 - val_loss: 0.0474 - val_accuracy: 0.9878 - lr: 0.0010\n",
            "Epoch 8/50\n",
            "131/131 [==============================] - 5s 41ms/step - loss: 1.1871e-04 - accuracy: 1.0000 - val_loss: 0.0489 - val_accuracy: 0.9885 - lr: 0.0010\n"
          ]
        }
      ]
    },
    {
      "cell_type": "code",
      "execution_count": null,
      "metadata": {
        "id": "J9tD9yACG6M9",
        "colab": {
          "base_uri": "https://localhost:8080/"
        },
        "outputId": "fa5a4e64-5121-414e-95eb-c020b32ea620"
      },
      "outputs": [
        {
          "output_type": "stream",
          "name": "stdout",
          "text": [
            "['1.95e-06', 'ham']\n"
          ]
        }
      ],
      "source": [
        "# function to predict messages based on model\n",
        "# (should return list containing prediction and label, ex. [0.008318834938108921, 'ham'])\n",
        "def predict_message(pred_text):\n",
        "  prediction = model.predict(np.array([pred_text])).item()\n",
        "  if prediction < 0.5:\n",
        "    pred_list = [f'{prediction:.2e}', 'ham']\n",
        "  else:\n",
        "    pred_list = [f'{prediction:.2e}', 'spam']\n",
        "  return pred_list\n",
        "\n",
        "pred_text = 'how are you doing today'\n",
        "\n",
        "prediction = predict_message(pred_text)\n",
        "print(prediction)"
      ]
    },
    {
      "cell_type": "code",
      "execution_count": null,
      "metadata": {
        "id": "Dxotov85SjsC",
        "colab": {
          "base_uri": "https://localhost:8080/"
        },
        "outputId": "ff8d16a9-aa6e-4cff-f6f4-606e2a96444d"
      },
      "outputs": [
        {
          "output_type": "stream",
          "name": "stdout",
          "text": [
            "You passed the challenge. Great job!\n"
          ]
        }
      ],
      "source": [
        "# Run this cell to test your function and model. Do not modify contents.\n",
        "def test_predictions():\n",
        "  test_messages = [\"how are you doing today\",\n",
        "                   \"sale today! to stop texts call 98912460324\",\n",
        "                   \"i dont want to go. can we try it a different day? available sat\",\n",
        "                   \"our new mobile video service is live. just install on your phone to start watching.\",\n",
        "                   \"you have won £1000 cash! call to claim your prize.\",\n",
        "                   \"i'll bring it tomorrow. don't forget the milk.\",\n",
        "                   \"wow, is your arm alright. that happened to me one time too\"\n",
        "                  ]\n",
        "\n",
        "  test_answers = [\"ham\", \"spam\", \"ham\", \"spam\", \"spam\", \"ham\", \"ham\"]\n",
        "  passed = True\n",
        "\n",
        "  for msg, ans in zip(test_messages, test_answers):\n",
        "    prediction = predict_message(msg)\n",
        "    if prediction[1] != ans:\n",
        "      passed = False\n",
        "\n",
        "  if passed:\n",
        "    print(\"You passed the challenge. Great job!\")\n",
        "  else:\n",
        "    print(\"You haven't passed yet. Keep trying.\")\n",
        "\n",
        "test_predictions()\n"
      ]
    }
  ],
  "metadata": {
    "colab": {
      "collapsed_sections": [],
      "name": "fcc_sms_text_classification.ipynb",
      "provenance": [],
      "include_colab_link": true
    },
    "kernelspec": {
      "display_name": "Python 3",
      "name": "python3"
    },
    "language_info": {}
  },
  "nbformat": 4,
  "nbformat_minor": 0
}